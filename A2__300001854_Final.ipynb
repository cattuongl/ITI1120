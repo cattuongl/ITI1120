{
  "nbformat": 4,
  "nbformat_minor": 0,
  "metadata": {
    "celltoolbar": "Raw Cell Format",
    "colab": {
      "name": "A2__300001854_Final.ipynb",
      "provenance": [],
      "collapsed_sections": []
    },
    "kernelspec": {
      "display_name": "Python 3",
      "language": "python",
      "name": "python3"
    },
    "language_info": {
      "codemirror_mode": {
        "name": "ipython",
        "version": 3
      },
      "file_extension": ".py",
      "mimetype": "text/x-python",
      "name": "python",
      "nbconvert_exporter": "python",
      "pygments_lexer": "ipython3",
      "version": "3.7.4"
    }
  },
  "cells": [
    {
      "cell_type": "markdown",
      "metadata": {
        "id": "GrAKu-PaMM4R"
      },
      "source": [
        "#<font color='Green'> Course:  ITI1120 - F Winter 2021</font>\n",
        "#<font color='Green'>Assignment Number: 02</font>\n",
        " \n",
        "# Due Date: <font color='red'>Sunday March 7th, 2021 11:30 PM</font>"
      ]
    },
    {
      "cell_type": "markdown",
      "metadata": {
        "id": "PTPPU-oSCHM5"
      },
      "source": [
        "<font color='red'> ----- To be filled by the student ----</font>\n",
        "\n",
        "# Family name, Given name : Le, Cattuong\n",
        "# Student number : 300001854\n"
      ]
    },
    {
      "cell_type": "markdown",
      "metadata": {
        "id": "248-nYd6CHM8"
      },
      "source": [
        "### Instructions: (Refer to assignment PDF copy for full instructions)\n",
        "1- Write your Name and student number in the first cell above (double click to edit).\n",
        "\n",
        "2- Make sure you provide complete and meaningful docstrings for each function you develop, docstring must include:\n",
        "\n",
        "    2.1 Type contract, \n",
        "    2.2 Function description, including parameter names,\n",
        "    2.3 Preconditions if any."
      ]
    },
    {
      "cell_type": "markdown",
      "metadata": {
        "id": "QTo9L0F2EU4U"
      },
      "source": [
        "## Question #1: <font color='red'>(10 marks)</font>\n",
        "\n",
        "Write a function called factorsOfN that takes an integer n as a parameter and prints out all the factors of n <font color='red'>(excluding 1 and n)</font>. it should also print the sum of those numbers <font color='red'>(excluding 1 and n)</font>. the fuction should return True if the sum  of the factors printed is smaller than n and returning False otherwise.  Recall that a factor is a number between 1 and n that goes evenly into n. For example:\n",
        "* if you enter integer: 12, you should get:\n",
        "\n",
        "\n",
        "```\n",
        "Enter integer: 12\n",
        "Factors of 12 = 2 3 4 6 \n",
        "Sum of the Factors =  15\n",
        "False\n",
        "```\n",
        "\n",
        "\n",
        "* Or, if you enter integer: 9, you should get:\n",
        "\n",
        "\n",
        "\n",
        "```\n",
        "Enter integer: 9\n",
        "Factors of 9 = 3 \n",
        "Sum of the Factors =  3\n",
        "True\n",
        "```\n",
        "\n"
      ]
    },
    {
      "cell_type": "code",
      "metadata": {
        "id": "lYSXD1J5-Bu-"
      },
      "source": [
        "#Question no. 1: \n",
        "\n",
        "def factorsOfN(n):\n",
        "  \"\"\"Function takes in a single parameter that is an integer\n",
        "  function will print all the factors of n (excluding 1 and n)\n",
        "  function will also print out the sum of the factors (excluding 1 and n)\n",
        "  function will also check if the sum of factors is less than n and will return True; else False\n",
        "  precondition= n>1\n",
        "  @type n: int\n",
        "  @rtype: bool\n",
        "  \"\"\"\n",
        "  factors= \"\"\n",
        "  sum=0\n",
        "  for i in range (2, n):\n",
        "    if (n%i) == 0:\n",
        "      sum += i\n",
        "      i= str(i)\n",
        "      factors += i + \" \" \n",
        "  n_str=str(n)\n",
        "  factors_str=str(factors)\n",
        "  sum_str=str(sum)\n",
        "  print (\"Factors of \"+ n_str +\" = \" + factors_str )\n",
        "  print (\"Sum of the Factors = \" + sum_str)\n",
        "  if sum < n:\n",
        "    return (True)\n",
        "  else:\n",
        "    return (False)"
      ],
      "execution_count": 31,
      "outputs": []
    },
    {
      "cell_type": "code",
      "metadata": {
        "colab": {
          "base_uri": "https://localhost:8080/"
        },
        "id": "3l94kcKpGOn_",
        "outputId": "2fa704a0-0464-4db1-ca5d-15581750fcb9"
      },
      "source": [
        "#test1 Question 1:  ~ ask the user to input n then call  factorsOfN from here###\r\n",
        "try:\r\n",
        "  n= int(input(\"Enter integer: \"))\r\n",
        "except ValueError:\r\n",
        "  print (\"not an integer\")\r\n",
        "factorsOfN(n)"
      ],
      "execution_count": 32,
      "outputs": [
        {
          "output_type": "stream",
          "text": [
            "Enter integer: 12\n",
            "Factors of 12 = 2 3 4 6 \n",
            "Sum of the Factors = 15\n"
          ],
          "name": "stdout"
        },
        {
          "output_type": "execute_result",
          "data": {
            "text/plain": [
              "False"
            ]
          },
          "metadata": {
            "tags": []
          },
          "execution_count": 32
        }
      ]
    },
    {
      "cell_type": "code",
      "metadata": {
        "colab": {
          "base_uri": "https://localhost:8080/"
        },
        "id": "GZ4DbmAa_PbY",
        "outputId": "d2e7ed7a-eff2-463a-a9af-43250156a52a"
      },
      "source": [
        "#test2 Question 1:  ~ ask the user to input n then call  factorsOfN from here###\n",
        "try:\n",
        "  n= int(input(\"Enter integer: \"))\n",
        "except ValueError:\n",
        "  print (\"not an integer\")\n",
        "factorsOfN(n)"
      ],
      "execution_count": 33,
      "outputs": [
        {
          "output_type": "stream",
          "text": [
            "Enter integer: 9\n",
            "Factors of 9 = 3 \n",
            "Sum of the Factors = 3\n"
          ],
          "name": "stdout"
        },
        {
          "output_type": "execute_result",
          "data": {
            "text/plain": [
              "True"
            ]
          },
          "metadata": {
            "tags": []
          },
          "execution_count": 33
        }
      ]
    },
    {
      "cell_type": "code",
      "metadata": {
        "colab": {
          "base_uri": "https://localhost:8080/"
        },
        "id": "AZHwwT5wWN8J",
        "outputId": "c1171661-e14a-430c-b599-2c3ad1ab435c"
      },
      "source": [
        "#test3 Question 1:  ~ ask the user to input n then call  factorsOfN from here###\n",
        "try:\n",
        "  n= int(input(\"Enter integer: \"))\n",
        "except ValueError:\n",
        "  print (\"not an integer\")\n",
        "factorsOfN(n)"
      ],
      "execution_count": 34,
      "outputs": [
        {
          "output_type": "stream",
          "text": [
            "Enter integer: five\n",
            "not an integer\n",
            "Factors of 9 = 3 \n",
            "Sum of the Factors = 3\n"
          ],
          "name": "stdout"
        },
        {
          "output_type": "execute_result",
          "data": {
            "text/plain": [
              "True"
            ]
          },
          "metadata": {
            "tags": []
          },
          "execution_count": 34
        }
      ]
    },
    {
      "cell_type": "markdown",
      "metadata": {
        "id": "KCVj2xo_QWWV"
      },
      "source": [
        "## Question #2: <font color='red'>(10 marks)</font>\n",
        "\n",
        "Write a function called H_diamond that takes an integer size as a parameter and prints a size * 2 – 1 wide by size*2 tall diamond of letter H.\n",
        "for example if you enter integer: 6, you should get:\n",
        "\n",
        "\n",
        "```\n",
        "     H     \n",
        "    HHH    \n",
        "   HHHHH   \n",
        "  HHHHHHH  \n",
        " HHHHHHHHH \n",
        "HHHHHHHHHHH\n",
        "HHHHHHHHHHH\n",
        " HHHHHHHHH\n",
        "  HHHHHHH\n",
        "   HHHHH\n",
        "    HHH\n",
        "     H\n",
        "```\n",
        "\n"
      ]
    },
    {
      "cell_type": "code",
      "metadata": {
        "id": "sACJgu7S-Bu_"
      },
      "source": [
        "#Question no. 2: \n",
        "\n",
        "def H_diamond(n):\n",
        "  \"\"\"Takes a single parameter that is an integer \n",
        "  prints a size * 2 – 1 wide by size*2 tall diamond of the letter H (as in Hamzah).\n",
        "  @type n: integer\n",
        "  @rtype: none\"\"\"\n",
        "  if n>0:\n",
        "    for i in range (n):\n",
        "      n_str=str(n)\n",
        "      n_str='H'\n",
        "      print(\" \" * (n-1-i), end='')\n",
        "      print(n_str *(i* 2+1))\n",
        "    for i in range(n-1, -1, -1):\n",
        "      print(\" \" * (n-1-i), end='')\n",
        "      print(n_str *(i* 2+1))\n",
        "  else:\n",
        "    print(\"Not a positive integer\")"
      ],
      "execution_count": 35,
      "outputs": []
    },
    {
      "cell_type": "code",
      "metadata": {
        "colab": {
          "base_uri": "https://localhost:8080/"
        },
        "id": "iEfjmH9aP6vw",
        "outputId": "37972e3d-c02a-4083-e358-6a8cbc6668c2"
      },
      "source": [
        "#test1 Question 2:  ~ ask the user to input n then call  H_diamond from here###\r\n",
        "try:\r\n",
        "  n= int(input(\"Enter integer: \"))\r\n",
        "except ValueError:\r\n",
        "  print (\"not an integer\")\r\n",
        "print(\"\\n\")\r\n",
        "H_diamond(n)\r\n"
      ],
      "execution_count": 36,
      "outputs": [
        {
          "output_type": "stream",
          "text": [
            "Enter integer: 6\n",
            "\n",
            "\n",
            "     H\n",
            "    HHH\n",
            "   HHHHH\n",
            "  HHHHHHH\n",
            " HHHHHHHHH\n",
            "HHHHHHHHHHH\n",
            "HHHHHHHHHHH\n",
            " HHHHHHHHH\n",
            "  HHHHHHH\n",
            "   HHHHH\n",
            "    HHH\n",
            "     H\n"
          ],
          "name": "stdout"
        }
      ]
    },
    {
      "cell_type": "code",
      "metadata": {
        "colab": {
          "base_uri": "https://localhost:8080/"
        },
        "id": "dS4qrOUp_euk",
        "outputId": "f2fc822e-1f08-447d-b6d7-96bece10365d"
      },
      "source": [
        "#test2 Question 2:  ~ ask the user to input n then call  H_diamond from here###\n",
        "try:\n",
        "  n= int(input(\"Enter integer: \"))\n",
        "except ValueError:\n",
        "  print (\"not an integer\")\n",
        "print(\"\\n\")\n",
        "H_diamond(n)"
      ],
      "execution_count": 37,
      "outputs": [
        {
          "output_type": "stream",
          "text": [
            "Enter integer: five\n",
            "not an integer\n",
            "\n",
            "\n",
            "     H\n",
            "    HHH\n",
            "   HHHHH\n",
            "  HHHHHHH\n",
            " HHHHHHHHH\n",
            "HHHHHHHHHHH\n",
            "HHHHHHHHHHH\n",
            " HHHHHHHHH\n",
            "  HHHHHHH\n",
            "   HHHHH\n",
            "    HHH\n",
            "     H\n"
          ],
          "name": "stdout"
        }
      ]
    },
    {
      "cell_type": "markdown",
      "metadata": {
        "id": "73RKnfZXJIqG"
      },
      "source": [
        "## Question #3: <font color='red'>(10 marks)</font>\n",
        "\n",
        "Hamzah wants to stop water wastage by creating a new billing system that will make people pay more the more water they use. \n",
        "Write a function called WaterBill2021() that takes as input the daily usage in liters of water and number of people living in the house then approximates the amount payable following those rules.\n",
        "\n",
        "•\tDepending on the number of the household members the first 3 litters for each member is free (3 * number of members). Since the daily water intake for humans is ~3L.\n",
        "\n",
        "•\tFor the rest each extra 10 litters will cost: 12$ + 3% of the total cost of all the litters which had been used before. (The first 10 litters used after the free ones will cost only 12$, because the total cost before was 0).\n",
        "\n",
        "•\tThe last few litters (less than 10) each will cost 2$\n",
        "\n",
        "\n",
        "For example if you entre 100 litters and 5 members, you should get:\n",
        "\n",
        "```\n",
        "Enter litters used daily: 100\n",
        "Enter number of household memebers: 5\n",
        "amount of free water =  15\n",
        "116.70803255504644\n",
        "```\n",
        "\n",
        "\n",
        "For example if you entre 15 litters and 6 members, you should get:\n",
        "```\n",
        "Enter litters used daily: 15\n",
        "Enter number of household memebers: 6\n",
        "amount of free water =  18\n",
        "0\n",
        "```\n",
        "\n",
        "\n",
        "\n",
        "\n",
        "\n"
      ]
    },
    {
      "cell_type": "code",
      "metadata": {
        "id": "020eZB4n-Bu_"
      },
      "source": [
        "#Question no. 3: \n",
        "\n",
        "import math\n",
        "def WaterBill2021(L,n):\n",
        "  \"\"\"function takes in 2 parameters that are both integers\n",
        "  first 3 liters for each member is free\n",
        "  rest of extra 10 litters will cost: 12$ + 3% of the total cost of all the liters used before\n",
        "  last few liters of water that is less than 10L is $2\n",
        "  @type L: int\n",
        "  @type n: int\n",
        "  @rtype: none\"\"\" \n",
        "  free= 3 * n\n",
        "  if free>= L:\n",
        "    free_str=str(free)\n",
        "    print(\"amount of free water = \" + free_str)\n",
        "    print ('0')\n",
        "  \n",
        "  else:\n",
        "    free_str=str(free)\n",
        "    L_charge= L - free\n",
        "    total= 0\n",
        "    ten_time= L_charge// 10\n",
        "    last_few= L_charge % 10\n",
        "    ten_time_int=int(ten_time)\n",
        "    for i in range(ten_time):\n",
        "      water= 12 + 0.03*(total)\n",
        "      total+= water\n",
        "    cost2=  last_few * 2\n",
        "\n",
        "    bill= total + cost2\n",
        "    bill_str=str(bill)\n",
        "    print(\"amount of free water = \" + free_str)\n",
        "    print(bill_str)"
      ],
      "execution_count": 38,
      "outputs": []
    },
    {
      "cell_type": "code",
      "metadata": {
        "colab": {
          "base_uri": "https://localhost:8080/"
        },
        "id": "IFBVSGjU1W-E",
        "outputId": "04791d56-19ef-4786-9bb8-e5e39f414307"
      },
      "source": [
        "#test1 Question 3:  ~ ask the user to input the daily usage and the number of household memebers then call  WaterBill2021 from here###\r\n",
        "try:\r\n",
        "  L= int(input(\"Enter litters used daily: \"))\r\n",
        "  n= int(input(\"Enter number of household memebers: \"))\r\n",
        "except ValueError:\r\n",
        "  print (\"not an integer\")\r\n",
        "WaterBill2021(L,n)"
      ],
      "execution_count": 39,
      "outputs": [
        {
          "output_type": "stream",
          "text": [
            "Enter litters used daily: 100\n",
            "Enter number of household memebers: 5\n",
            "amount of free water = 15\n",
            "116.70803255504644\n"
          ],
          "name": "stdout"
        }
      ]
    },
    {
      "cell_type": "code",
      "metadata": {
        "colab": {
          "base_uri": "https://localhost:8080/"
        },
        "id": "TJop8QaqAIaz",
        "outputId": "a4a32e9d-eeab-4f0f-d996-15f2648aa209"
      },
      "source": [
        "#test2 Question 3:  ~ ask the user to input the daily usage and the number of household memebers then call  WaterBill2021 from here###\n",
        "try:\n",
        "  L= int(input(\"Enter litters used daily: \"))\n",
        "  n= int(input(\"Enter number of household memebers: \"))\n",
        "except ValueError:\n",
        "  print (\"not an integer\")\n",
        "WaterBill2021(L,n)"
      ],
      "execution_count": 40,
      "outputs": [
        {
          "output_type": "stream",
          "text": [
            "Enter litters used daily: 15\n",
            "Enter number of household memebers: 6\n",
            "amount of free water = 18\n",
            "0\n"
          ],
          "name": "stdout"
        }
      ]
    },
    {
      "cell_type": "code",
      "metadata": {
        "colab": {
          "base_uri": "https://localhost:8080/"
        },
        "id": "7ZNT1Y27WtgS",
        "outputId": "42492481-c02d-43a2-c96b-61e4add13ca2"
      },
      "source": [
        "#test3 Question 3:  ~ ask the user to input the daily usage and the number of household memebers then call  WaterBill2021 from here###\n",
        "try:\n",
        "  L= int(input(\"Enter litters used daily: \"))\n",
        "  n= int(input(\"Enter number of household memebers: \"))\n",
        "except ValueError:\n",
        "  print (\"not an integer\")\n",
        "WaterBill2021(L,n)"
      ],
      "execution_count": 41,
      "outputs": [
        {
          "output_type": "stream",
          "text": [
            "Enter litters used daily: five\n",
            "not an integer\n",
            "amount of free water = 18\n",
            "0\n"
          ],
          "name": "stdout"
        }
      ]
    },
    {
      "cell_type": "markdown",
      "metadata": {
        "id": "iYWXVLli-BvA"
      },
      "source": [
        "## Question #4: <font color='red'>(20 marks)</font>\n",
        "Write a function named shortest_name that reads number of names (as an input), names typed by the user (as an input(s)) and prints the shortest name (the name that contains the least characters):\n",
        "\n",
        "* Your method should accept an integer n as a parameter and should then prompt for n names.\n",
        "* The shortest name should be printed with its first letter in lowercase and all subsequent letters capitalized, regardless of the capitalization the user used when typing in the name. \n",
        "* If there is a tie for shortest between two or more names, use the tied name that was typed earliest.\n",
        "* Also print a message saying that there was a tie, as shown below.\n",
        "* It is possible that some longer names will tie in length, such as Wassim and hamzah in the example below; but don't print a message unless the tie is between the shortest names.\n",
        "* You may assume that n is at least 1, that each name is at least 1 character long and at most 30 characters long, and that the user will type single-word names consisting of only letters. \n",
        "\n",
        "Example #1: \n",
        "\n",
        "\n",
        "```\n",
        "Enter number of names :5\n",
        "Enter Name #1: Leah\n",
        "Enter Name #2: Liv\n",
        "Enter Name #3: Lexi\n",
        "Enter Name #4: Lex\n",
        "Enter Name #5: Lily\n",
        "lIV's Name is the shortest\n",
        "(There was a Tie!)\n",
        "```\n",
        "\n",
        "\n",
        "Example #2: \n",
        "\n",
        "\n",
        "```\n",
        "Enter number of names :3\n",
        "Enter Name #1: hamzah\n",
        "Enter Name #2: wassim\n",
        "Enter Name #3: sara\n",
        "sARA's Name is the shortest\n",
        "```\n",
        "\n"
      ]
    },
    {
      "cell_type": "code",
      "metadata": {
        "id": "I-eI9R65-BvA"
      },
      "source": [
        "#Question no.4 :\n",
        "\n",
        "def shortest_name(n):\n",
        "  \"\"\"function takes in a single parameter that is an integer\n",
        "  shortest name will be printed with its first letter in lowercase and all subsequent letters capitalized\n",
        "  For tie for shortest between two or more names, tied name that was typed earliest will be printed\n",
        "  function will print a message saying that there was a tie if there is one\n",
        "  preconditions:\n",
        "    -n>0\n",
        "    -each name is at least 1 character long and at most 30 characters long\n",
        "    -user will type single-word names consisting of only letters\n",
        "  @type n:int\n",
        "  @rtype: none\"\"\"\n",
        "  tie= False\n",
        "  list_names=[]\n",
        "  list_shortnames=[]\n",
        "  for i in range(1,n+1):\n",
        "    i_str=str(i)\n",
        "    names=str(input(\"Enter Name #\" + i_str + \":\"))\n",
        "    list_names.append(names.lower())\n",
        "  for j in range (len(list_names)):\n",
        "    for k in range (len(list_names[1:])):\n",
        "      if len(list_names[j]) <= len(list_names[k]):\n",
        "        list_shortnames.append(list_names[j])\n",
        "  sorted_shortnames = sorted(list_shortnames, key=len)\n",
        "  final_list = [] \n",
        "  for l in sorted_shortnames: \n",
        "    if l not in final_list: \n",
        "        final_list.append(l) \n",
        "  shortest_name=final_list[0]\n",
        "  first_letter=shortest_name[0:1].lower()\n",
        "  rest_letter=shortest_name[1:].upper()\n",
        "  print(first_letter + rest_letter +\"'s Name is the shortest\")\n",
        "\n",
        "  tie = False\n",
        "  \n",
        "  \n",
        "  if len(final_list)>1:\n",
        "    if len(final_list[0]) == len(final_list[1]):\n",
        "     tie = True\n",
        "  if tie:\n",
        "    print (\"(There was a Tie!)\")"
      ],
      "execution_count": 42,
      "outputs": []
    },
    {
      "cell_type": "code",
      "metadata": {
        "colab": {
          "base_uri": "https://localhost:8080/"
        },
        "id": "mWZKMKMpj5g1",
        "outputId": "55e797dd-8b5e-447a-e3f6-e6072bb0d66a"
      },
      "source": [
        "#test1 Question 4:  ~ ask the user to input the number of names then call  shortest_name from here###\r\n",
        "try:\r\n",
        "  n= int(input(\"Enter number of names :\"))\r\n",
        "except ValueError:\r\n",
        "  print (\"not an integer\")\r\n",
        "shortest_name(n)"
      ],
      "execution_count": 43,
      "outputs": [
        {
          "output_type": "stream",
          "text": [
            "Enter number of names :5\n",
            "Enter Name #1:Leah\n",
            "Enter Name #2:Liv\n",
            "Enter Name #3:Lexi\n",
            "Enter Name #4:Lex\n",
            "Enter Name #5:Lily\n",
            "lIV's Name is the shortest\n",
            "(There was a Tie!)\n"
          ],
          "name": "stdout"
        }
      ]
    },
    {
      "cell_type": "code",
      "metadata": {
        "colab": {
          "base_uri": "https://localhost:8080/"
        },
        "id": "KZMm_C8vBStG",
        "outputId": "f022abf3-332a-4893-a4e5-d2e576aa62db"
      },
      "source": [
        "#test2 Question 4:  ~ ask the user to input the number of names then call  shortest_name from here###\n",
        "try:\n",
        "  n= int(input(\"Enter number of names :\"))\n",
        "except ValueError:\n",
        "  print (\"not an integer\")\n",
        "shortest_name(n)"
      ],
      "execution_count": 44,
      "outputs": [
        {
          "output_type": "stream",
          "text": [
            "Enter number of names :3\n",
            "Enter Name #1:hamzah\n",
            "Enter Name #2:wassim\n",
            "Enter Name #3:sara\n",
            "sARA's Name is the shortest\n"
          ],
          "name": "stdout"
        }
      ]
    },
    {
      "cell_type": "code",
      "metadata": {
        "colab": {
          "base_uri": "https://localhost:8080/"
        },
        "id": "FsJXaKRbBqqc",
        "outputId": "988dc63e-c46e-47e0-90cf-9bf9c0752932"
      },
      "source": [
        "#test3 Question 4:  ~ ask the user to input the number of names then call  shortest_name from here###\n",
        "try:\n",
        "  n= int(input(\"Enter number of names :\"))\n",
        "except ValueError:\n",
        "  print (\"not an integer\")\n",
        "shortest_name(n)"
      ],
      "execution_count": 45,
      "outputs": [
        {
          "output_type": "stream",
          "text": [
            "Enter number of names :3\n",
            "Enter Name #1:Luis\n",
            "Enter Name #2:Sara\n",
            "Enter Name #3:Jack\n",
            "lUIS's Name is the shortest\n",
            "(There was a Tie!)\n"
          ],
          "name": "stdout"
        }
      ]
    },
    {
      "cell_type": "markdown",
      "metadata": {
        "id": "H9C41jCZ9ubI"
      },
      "source": [
        "# Question #5: <font color='red'>(10 marks)</font>\n",
        "\n",
        "Write function vowel_bingo(S) that takes a string as input and counts the number of occurrences of vowels in each string.\n",
        "\n",
        "*\tIf the string has more than 5 vowels, then the function should print “whammy you lost”. Then exit.\n",
        "\n",
        "*\tIf all the 5 vowels appeared in the string, then instead of a whammy the function should print “bingo you have won”. Then exist.\n",
        "\n",
        "*\tIf the number of vowels is less than 5 the function should print “playing it safe, eh?”. Then exist.\n",
        "\n",
        "examples: \n",
        "\n",
        "\n",
        "```\n",
        "Enter String: Le Tour de France\n",
        "whammy you lost\n",
        "```\n",
        "\n",
        "\n",
        "```\n",
        "Enter String: EDUCATION\n",
        "bingo you have won\n",
        "```\n",
        "\n",
        "\n",
        "\n",
        "```\n",
        "Enter String: hamzah\n",
        "playing it safe, eh?\n",
        "```\n",
        "\n",
        "\n",
        "\n",
        "\n",
        "\n",
        "\n"
      ]
    },
    {
      "cell_type": "code",
      "metadata": {
        "id": "5me-RxzF-BvC"
      },
      "source": [
        "#Question no.5 :\n",
        "\n",
        "def vowel_bingo(s):\n",
        "  \"\"\"function takes in a single parameter that is a string\n",
        "  function will count how many vowels there are in the string\n",
        "  if string has more than 5 vowels function prints \"whammy you lost\"\n",
        "  if string has all 5 vowels then function prints \"bingo you have won\"\n",
        "  if string has less than 5 vowels then function prints \"playing it safe, eh?\"\n",
        "  @type s: str\n",
        "  @rtype: none\"\"\"\n",
        "  vowel_a=0\n",
        "  vowel_e=0\n",
        "  vowel_i=0\n",
        "  vowel_o=0\n",
        "  vowel_u=0\n",
        "  for i in range(len(s)):\n",
        "    if s[i]== 'a':\n",
        "      vowel_a+=1\n",
        "    elif s[i]== 'e':\n",
        "      vowel_e+=1\n",
        "    elif s[i]== 'i':\n",
        "      vowel_i+=1\n",
        "    elif s[i]== 'o':\n",
        "      vowel_o+=1\n",
        "    elif s[i]== 'u':\n",
        "      vowel_u+=1\n",
        "  sum= vowel_a+vowel_e+vowel_i+vowel_o+vowel_u\n",
        "  if vowel_a>=1 and vowel_e>=1 and vowel_i>=1 and vowel_o>=1 and vowel_u>=1:\n",
        "    print(\"bingo you have won\")\n",
        "  elif sum == 5:\n",
        "    print(\"whammy you lost\")\n",
        "  elif sum < 5:\n",
        "    print(\"playing it safe, eh?\")\n",
        "  elif sum > 5:\n",
        "    print(\"whammy you lost\")"
      ],
      "execution_count": 46,
      "outputs": []
    },
    {
      "cell_type": "code",
      "metadata": {
        "colab": {
          "base_uri": "https://localhost:8080/"
        },
        "id": "emMIJSo67Wnl",
        "outputId": "7fa95ae6-2c5b-4945-a0ea-ad964c454eb3"
      },
      "source": [
        "#test1 Question 5:  ~ ask the user to input a string then call vowel_bingo uare from here###\r\n",
        "\r\n",
        "s=str (input(\"Enter String:\")).lower()\r\n",
        "s.lower()\r\n",
        "vowel_bingo(s)"
      ],
      "execution_count": 47,
      "outputs": [
        {
          "output_type": "stream",
          "text": [
            "Enter String:Le Tour de France\n",
            "whammy you lost\n"
          ],
          "name": "stdout"
        }
      ]
    },
    {
      "cell_type": "code",
      "metadata": {
        "colab": {
          "base_uri": "https://localhost:8080/"
        },
        "id": "2L538IaBB9E5",
        "outputId": "87a0c7bc-1eb4-4d19-ff32-85bb6078d38f"
      },
      "source": [
        "#test2 Question 5:  ~ ask the user to input a string then call vowel_bingo uare from here###\n",
        "\n",
        "s=str (input(\"Enter String:\")).lower()\n",
        "s.lower()\n",
        "vowel_bingo(s)"
      ],
      "execution_count": 48,
      "outputs": [
        {
          "output_type": "stream",
          "text": [
            "Enter String:EDUCATION\n",
            "bingo you have won\n"
          ],
          "name": "stdout"
        }
      ]
    },
    {
      "cell_type": "code",
      "metadata": {
        "colab": {
          "base_uri": "https://localhost:8080/"
        },
        "id": "zvH2uNGuB-t2",
        "outputId": "e9ab4e59-0fb9-4f85-929f-08d09176506f"
      },
      "source": [
        "#test3 Question 5:  ~ ask the user to input a string then call vowel_bingo uare from here###\n",
        "\n",
        "s=str (input(\"Enter String:\")).lower()\n",
        "s.lower()\n",
        "vowel_bingo(s)"
      ],
      "execution_count": 49,
      "outputs": [
        {
          "output_type": "stream",
          "text": [
            "Enter String:hamzah\n",
            "playing it safe, eh?\n"
          ],
          "name": "stdout"
        }
      ]
    },
    {
      "cell_type": "code",
      "metadata": {
        "colab": {
          "base_uri": "https://localhost:8080/"
        },
        "id": "haduEwG-CIcP",
        "outputId": "2216a52b-f3a2-42c7-a5fa-0cbbe473cefc"
      },
      "source": [
        "#test4 Question 5:  ~ ask the user to input a string then call vowel_bingo uare from here###\n",
        "\n",
        "s=str (input(\"Enter String:\")).lower()\n",
        "s.lower()\n",
        "vowel_bingo(s)"
      ],
      "execution_count": 50,
      "outputs": [
        {
          "output_type": "stream",
          "text": [
            "Enter String:aaeee\n",
            "whammy you lost\n"
          ],
          "name": "stdout"
        }
      ]
    },
    {
      "cell_type": "code",
      "metadata": {
        "colab": {
          "base_uri": "https://localhost:8080/"
        },
        "id": "vngjiyOuCNlB",
        "outputId": "9c807d0c-22b9-4e38-ef21-e9f7ea949fd4"
      },
      "source": [
        "#test5 Question 5:  ~ ask the user to input a string then call vowel_bingo uare from here###\n",
        "\n",
        "s=str (input(\"Enter String:\")).lower()\n",
        "s.lower()\n",
        "vowel_bingo(s)"
      ],
      "execution_count": 51,
      "outputs": [
        {
          "output_type": "stream",
          "text": [
            "Enter String:aeiouaeiou\n",
            "bingo you have won\n"
          ],
          "name": "stdout"
        }
      ]
    },
    {
      "cell_type": "markdown",
      "metadata": {
        "id": "hu_0VTmjwUC3"
      },
      "source": [
        "# Question # 6: <font color='red'>(20 marks)</font>\n",
        "\n",
        "Hamzah believes that a good password is a password that you can remember while also meet all the requirements of website. So, he created a way to generate a unique password for each website you visit. The way to generate a password is giving below: \n",
        "•\tWrite your mother’s year of birth while pressing shift to generate special characters. For example, 1956 would be typed as !(%^ when you hold shift. \n",
        "\n",
        "•\tWrite your name: “Hamzah”.\n",
        "\n",
        "•\tWrite the street number of your grandfather/grandmother house: “674”.\n",
        "\n",
        "•\tWrite your favorite movie: “Star Wars”.\n",
        "\n",
        "•\tWrite your bf/gf/bff name: “Sara”.\n",
        "\n",
        "•\tWrite something related to the website: e.g., for google: “android”.\n",
        "\n",
        "•\tRemove all vowels/spaces from all the strings above. Uppercase your name while force the rest to be lowercase. \n",
        "\n",
        "Now with the new Strings you can create your new password for google: \n",
        "Start with the first 2 letters of your name “HM”. The last two letters from your favorite movie “rs”. The last two letters from your bf/gf/bff name “sr”. The last two letters from your related word “rd”.\n",
        "\n",
        "“HM”+”rs”+”sr”+”rd”\n",
        "\n",
        "Between each of the 4 strings add character from both the street number and birthday.\n",
        "\n",
        "“HM”+”!6”+”rs”+”(7”+”sr”+”%4”+”rd”+”^”\n",
        "\n",
        "The new password should be a string of all of those parts : \n",
        "“HM!6rs(7sr%4rd^”\n",
        "\n",
        "Write a function called test_hamzah_password() that takes any user input password and verify if the password was created through hamzah’s logic or not. The function should ask the user to enter all the original strings and then verify that the entered password is a sum of all the parts of the entered strings.\n",
        "\n",
        "your function should print statements tells if the password is done using hamzah’s way or not.\n",
        "\n",
        "\n",
        "Example 1:\n",
        "\n",
        "\n",
        "\n",
        "```\n",
        "Enter your password: HA!6rs(7sa%4id^\n",
        "Enter your mother’s year of birth while pressing shift: !(%^\n",
        "Enter your name: Hamzah\n",
        "Enter the street number of your grandfather/grandmother house: 674\n",
        "Enter your favorite movie: Star Wars\n",
        "Enter your bf/gf/bff name: Sara\n",
        "Enter something related to the website: android\n",
        "Great, your password is done using hamzah’s way \n",
        "```\n",
        "\n",
        "\n",
        "\n",
        "Example 2:\n",
        "\n",
        " \n",
        "\n",
        "```\n",
        "Enter your password: WA!5ay&5Wd#\n",
        "Enter your mother’s year of birth while pressing shift: !(^!\n",
        "Enter your name: Wassim\n",
        "Enter the street number of your grandfather/grandmother house: 753\n",
        "Enter your favorite movie: the godfather\n",
        "Enter your bf/gf/bff name: ayah\n",
        "Enter something related to the website: Iphone\n",
        "Try again, your password was not done using hamzah’s way \n",
        "```\n",
        "\n",
        "\n"
      ]
    },
    {
      "cell_type": "code",
      "metadata": {
        "id": "JpGNzci4-BvC"
      },
      "source": [
        "#Question no.6 :\n",
        "\n",
        "def test_hamzah_password(pw):\n",
        "  \"\"\"function takes in a single paramter that is a string\n",
        "  within the function, it will obtain:\n",
        "    -mother’s year of birth\n",
        "    -name\n",
        "    -street number\n",
        "    -favorite movie\n",
        "    -bf/gf/bff name\n",
        "    -website\n",
        "  then the function will produce the hamzah way password:\n",
        "  -2 first letters of name (capital)\n",
        "  -last 2 letters from favorite movie\n",
        "  -first 2 letters from bf/gf/bff name\n",
        "  -last 2 letters of website\n",
        "  -between each 4 string, 1 character from street number and birthfay will be added\n",
        "  preconditions: birth year always 4 digits and street address always 3 digits\n",
        "  @type pw:str\n",
        "  @rtype: none\"\"\"\n",
        "  bday=str(input(\"Enter your mother’s year of birth while pressing shift: \")).replace(' ','')\n",
        "  oldp_name=str(input(\"Enter your name: \")).upper().strip().replace(' ','')\n",
        "  address=str(input(\"Enter the street number of your grandfather/grandmother house: \")).replace(' ','')\n",
        "  old_movie=str(input(\"Enter your favorite movie: \")).lower().strip().replace(' ','')\n",
        "  oldf_name=str(input(\"Enter your bf/gf/bff name: \")).lower().strip().replace(' ','')\n",
        "  old_web=str(input(\"Enter something related to the website: \")).lower().strip().replace(' ','')\n",
        "  \n",
        "  p_name= oldp_name.replace(oldp_name[2:],'') #HA\n",
        "  movie= old_movie.replace(old_movie[:-2],'') #rs\n",
        "  f_name= oldf_name.replace(oldf_name[2:],'') #sa\n",
        "  web= old_web.replace(old_web[:-2],'') #id\n",
        "  bday_address1= bday[0]+address[0] #!6\n",
        "  bday_address2= bday[1]+address[1] #(7\n",
        "  bday_address3= bday[2]+address[2] #%4\n",
        "  bday_address4= bday[3] #^\n",
        "  if len(pw)>15:\n",
        "    print(\"Try again, your password was not done using hamzah’s way\")\n",
        "  if pw[0:2]== p_name and pw[2:4]== bday_address1 and pw[4:6] == movie and pw[6:8]==bday_address2 and pw[8:10]== f_name and pw[10:12]== bday_address3 and pw[12:14]== web and pw[14] == bday_address4:\n",
        "    print(\"Great, your password is done using hamzah’s way\")\n",
        "  else:\n",
        "    print(\"Try again, your password was not done using hamzah’s way\")\n"
      ],
      "execution_count": 52,
      "outputs": []
    },
    {
      "cell_type": "code",
      "metadata": {
        "colab": {
          "base_uri": "https://localhost:8080/"
        },
        "id": "Lmy4yHQwmbZX",
        "outputId": "09d50365-b2d2-4cf4-a774-e6ccb58971df"
      },
      "source": [
        "#test1 Question 6:  ~ ask the user to input a password then call test_hamzah_password uare from here###\r\n",
        "pw=str(input(\"Enter your password: \"))\r\n",
        "test_hamzah_password(pw)"
      ],
      "execution_count": 53,
      "outputs": [
        {
          "output_type": "stream",
          "text": [
            "Enter your password: HA!6rs(7sa%4id^\n",
            "Enter your mother’s year of birth while pressing shift: !(%^\n",
            "Enter your name: Hamzah\n",
            "Enter the street number of your grandfather/grandmother house: 674\n",
            "Enter your favorite movie: Star Wars\n",
            "Enter your bf/gf/bff name: Sara\n",
            "Enter something related to the website: android\n",
            "Great, your password is done using hamzah’s way\n"
          ],
          "name": "stdout"
        }
      ]
    },
    {
      "cell_type": "code",
      "metadata": {
        "colab": {
          "base_uri": "https://localhost:8080/"
        },
        "id": "9c75Kb6wNRPI",
        "outputId": "28b95ae0-b61e-4ce1-c60c-28f40a362f5c"
      },
      "source": [
        "#test2 Question 6:  ~ ask the user to input a password then call test_hamzah_password uare from here###\n",
        "pw=str(input(\"Enter your password: \"))\n",
        "test_hamzah_password(pw)"
      ],
      "execution_count": 54,
      "outputs": [
        {
          "output_type": "stream",
          "text": [
            "Enter your password: WA!5ay&5Wd#\n",
            "Enter your mother’s year of birth while pressing shift: !(^!\n",
            "Enter your name: Wassim\n",
            "Enter the street number of your grandfather/grandmother house: 753\n",
            "Enter your favorite movie: the godfather\n",
            "Enter your bf/gf/bff name: ayah\n",
            "Enter something related to the website: Iphone\n",
            "Try again, your password was not done using hamzah’s way\n"
          ],
          "name": "stdout"
        }
      ]
    },
    {
      "cell_type": "markdown",
      "metadata": {
        "id": "ILhwhjqM-BvD"
      },
      "source": [
        "# Question # 7: <font color='red'>(10 marks)</font>\n",
        "\n",
        "Lossy compression/encoding/encryption is a class of methods where the loss of some of the data is desired (usually to reduce the size of the data). A good example of this is images/Videos as most of the videos you get from the internet have gone through this and lost a large amount of the original data ( though you will not be able to see the difference since those methods tries remove unnoticeable things. You can google this subject to learn more.  \n",
        "Write a simple function called lossy_encryption( ) that takes input string and it should returns new string (encrypted version of input string).\n",
        "Your function should take a triplet and delete the middle character while reversing the order of the other two. In case your string length is not a multiple of three, add the one/two characters to the end of the encrypted string.\n",
        "\n",
        "To validate your solution, if you use input \" 123456 \", your function must return \"3164\"\n",
        "\n"
      ]
    },
    {
      "cell_type": "code",
      "metadata": {
        "id": "oHwh2Hqh-BvD"
      },
      "source": [
        "#Question no.7 :\n",
        "\n",
        "def lossy_encryption(s):\n",
        "  \"\"\"function takes in a single parameter that is a string\n",
        "  function will take a triplet, delete the middle character while reversing the order of the other two\n",
        "  if string not a multiple of three, add thpse characters at the end\n",
        "  @type s: str\n",
        "  @rtype: none\"\"\"\n",
        "\n",
        "  n = 3\n",
        "  triplet_list=[]\n",
        "\n",
        "  for i in range(0, len(s), n):\n",
        "    triplet_list.append(s[i : i + n])\n",
        "  \n",
        "  deleted=''\n",
        "  for j in triplet_list:\n",
        "    if len(j)==3:\n",
        "      j = [j[0::2]]\n",
        "      j_str=str(j)\n",
        "      length2=len(j_str)\n",
        "      reverse=j_str[length2::-1]\n",
        "      deleted+=reverse\n",
        "    elif len(j)!=3:\n",
        "        j_str=str(j)\n",
        "        deleted+=j_str\n",
        "  deleted=deleted. replace(\"[\",'').replace(\"]\",'').replace(\"'\",'')\n",
        "  print(deleted)  "
      ],
      "execution_count": 55,
      "outputs": []
    },
    {
      "cell_type": "code",
      "metadata": {
        "colab": {
          "base_uri": "https://localhost:8080/"
        },
        "id": "Vh9rybm012Ct",
        "outputId": "2597b643-1b1f-4933-a2eb-1075b1c00be3"
      },
      "source": [
        "#test1 Question 7:  ~ ask the user to input a String then call lossy_encryption from here###\r\n",
        "s=str(input(\"Enter String to be Encrypted \"))\r\n",
        "lossy_encryption(s)"
      ],
      "execution_count": 56,
      "outputs": [
        {
          "output_type": "stream",
          "text": [
            "Enter String to be Encrypted 123456\n",
            "3164\n"
          ],
          "name": "stdout"
        }
      ]
    },
    {
      "cell_type": "code",
      "metadata": {
        "colab": {
          "base_uri": "https://localhost:8080/"
        },
        "id": "MvsTKwhNCoHm",
        "outputId": "3e2d8785-12ed-4535-f002-a859dd49141c"
      },
      "source": [
        "#test2 Question 7:  ~ ask the user to input a String then call lossy_encryption from here###\n",
        "s=str(input(\"Enter String to be Encrypted \"))\n",
        "lossy_encryption(s)"
      ],
      "execution_count": 57,
      "outputs": [
        {
          "output_type": "stream",
          "text": [
            "Enter String to be Encrypted 12345678\n",
            "316478\n"
          ],
          "name": "stdout"
        }
      ]
    },
    {
      "cell_type": "code",
      "metadata": {
        "colab": {
          "base_uri": "https://localhost:8080/"
        },
        "id": "IyCNFwwBCvCC",
        "outputId": "9bd03014-288f-4d3a-d43a-e0ce57c9961a"
      },
      "source": [
        "#test3 Question 7:  ~ ask the user to input a String then call lossy_encryption from here###\n",
        "s=str(input(\"Enter String to be Encrypted \"))\n",
        "lossy_encryption(s)"
      ],
      "execution_count": 58,
      "outputs": [
        {
          "output_type": "stream",
          "text": [
            "Enter String to be Encrypted abcdef\n",
            "cafd\n"
          ],
          "name": "stdout"
        }
      ]
    },
    {
      "cell_type": "markdown",
      "metadata": {
        "id": "0qKs7fOL-BvE"
      },
      "source": [
        "# Question # 8: <font color='red'>(10 marks)</font>\n",
        "\n",
        "Write a simple function called lossy_decryption( ) that takes input string (the encrypted one in question #8 above) and it should return a copy similar to the original but with “*” in place of the lost characters . \n",
        "To validate your solution, if you use input \"3164\", your function must return \"1*34*6 \". notice that we can guess that the original string was “123456”, most of lossy decryption methods do some guess work.\n",
        "\n"
      ]
    },
    {
      "cell_type": "code",
      "metadata": {
        "id": "ZvyQRo4l-BvE"
      },
      "source": [
        "#Question no.8 :\n",
        "\n",
        "def lossy_decryption(s):\n",
        "  \"\"\"function takes in a single parameter that is a strin\n",
        "  function will add a * in place of the lost characters\n",
        "  @type s: string\n",
        "  @rtype:none\"\"\"\n",
        "  n = 2\n",
        "  double_list=[]\n",
        "\n",
        "  for i in range(0, len(s), n):\n",
        "    double_list.append(s[i : i + n])\n",
        "\n",
        "  add=''\n",
        "  for j in double_list:\n",
        "      j_str=str(j)\n",
        "      j_new = j_str[:1] + \"*\" + j_str[1:]\n",
        "      j_str=str(j_new)\n",
        "      length2=len(j_str)\n",
        "      reverse=j_str[length2::-1]\n",
        "      add+=reverse\n",
        "  print(add)"
      ],
      "execution_count": 59,
      "outputs": []
    },
    {
      "cell_type": "code",
      "metadata": {
        "colab": {
          "base_uri": "https://localhost:8080/"
        },
        "id": "OHNVKzdY6moR",
        "outputId": "8813a5b4-9233-4479-9057-df9544459465"
      },
      "source": [
        "#test1 Question 8:  ~ ask the user to input a String then call lossy_decryption from here###\r\n",
        "s=str(input(\"Enter String to be Encrypted \"))\r\n",
        "lossy_decryption(s)"
      ],
      "execution_count": 60,
      "outputs": [
        {
          "output_type": "stream",
          "text": [
            "Enter String to be Encrypted 3164\n",
            "1*34*6\n"
          ],
          "name": "stdout"
        }
      ]
    },
    {
      "cell_type": "code",
      "metadata": {
        "colab": {
          "base_uri": "https://localhost:8080/"
        },
        "id": "vieut6uaC0_U",
        "outputId": "d852f2c2-ac7a-449f-8637-cbf81a8c20cd"
      },
      "source": [
        "#test2 Question 8:  ~ ask the user to input a String then call lossy_decryption from here###\n",
        "s=str(input(\"Enter String to be Encrypted \"))\n",
        "lossy_decryption(s)"
      ],
      "execution_count": 61,
      "outputs": [
        {
          "output_type": "stream",
          "text": [
            "Enter String to be Encrypted 316497\n",
            "1*34*67*9\n"
          ],
          "name": "stdout"
        }
      ]
    },
    {
      "cell_type": "code",
      "metadata": {
        "colab": {
          "base_uri": "https://localhost:8080/"
        },
        "id": "QyqsBO-lDRQA",
        "outputId": "554b548d-a888-44fc-901d-d2370e6f6000"
      },
      "source": [
        "#test3 Question 8:  ~ ask the user to input a String then call lossy_decryption from here###\n",
        "s=str(input(\"Enter String to be Encrypted \"))\n",
        "lossy_decryption(s)"
      ],
      "execution_count": 62,
      "outputs": [
        {
          "output_type": "stream",
          "text": [
            "Enter String to be Encrypted cafd\n",
            "a*cd*f\n"
          ],
          "name": "stdout"
        }
      ]
    }
  ]
}
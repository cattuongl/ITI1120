{
  "nbformat": 4,
  "nbformat_minor": 0,
  "metadata": {
    "colab": {
      "name": "A3_300001854_.ipynb",
      "provenance": [],
      "collapsed_sections": []
    },
    "kernelspec": {
      "name": "python3",
      "display_name": "Python 3"
    }
  },
  "cells": [
    {
      "cell_type": "markdown",
      "metadata": {
        "id": "GrAKu-PaMM4R"
      },
      "source": [
        "#<font color='Green'> Course:  ITI1120 - F Winter 2021</font>\n",
        "#<font color='Green'>Assignment Number: 03</font>\n",
        " \n",
        "# Due Date: <font color='red'>Sunday, March 21, 2021 11:30 PM"
      ]
    },
    {
      "cell_type": "markdown",
      "metadata": {
        "id": "Dt1m9d3jBC6Z"
      },
      "source": [
        "<font color='red'> ----- To be filled by the student ----</font>\n",
        "\n",
        "# Family name, Given name : Le Cattuong\n",
        "# Student number : 300001854\n"
      ]
    },
    {
      "cell_type": "markdown",
      "metadata": {
        "id": "LbISQVH5BC6a"
      },
      "source": [
        "<font color='red'>\n",
        "    \n",
        "### Instructions: <font color='blue'> (Refer to assignment PDF copy for full instructions) <font>\n",
        "***\n",
        "  \n",
        "**Marks will be deducted if assignments instructions not followed; to enforce compliance and making the assignment correction process efficient and effective** \n",
        "***\n",
        "\n",
        "<font color='green'>\n",
        "\n",
        "1. Write your full name and student number in the first cell above (double click to edit).\n",
        "* Do NOT submit assignment solution file in zip format.\n",
        "* Do NOT change the questions order.\n",
        "* Use the provided function names (on top of each solution cell to develop your solution) and the testing command examples (below each solution cell to test your solution).\n",
        "* Do NOT delete the provided testing command examples below each solution cell.\n",
        "* Test that your notebook file is functioning without loading or opening errors.\n",
        "* Pay attention to each question in details and understand well.\n",
        "* Provide complete and meaningful docstrings for each function you develop, docstring must include: type contract, function description, including parameter names,preconditions if any.\n",
        "    \n"
      ]
    },
    {
      "cell_type": "markdown",
      "metadata": {
        "id": "-WpbbbKFIVrM"
      },
      "source": [
        "## Question #1: <font color='red'>(10 marks)</font>\n",
        "\n",
        "Implement a function **coexcessive( )** which takes two positive integers inputs (x and y) and returns True if x and y are co-excessive and False otherwise. Two positive integers x and y are said to be co-excessive if the sum of the divisors of each is larger than the other number. That is, the sum of divisors of integer a is larger than integer b and vice versa.\n",
        "see testing examples below:\n",
        "\n",
        "```\n",
        " * coexcessive(20,18)\n",
        "  True\n",
        "\n",
        " * coexcessive(13,7) \n",
        " False\n",
        "```\n",
        " <font color='red'>please note that what we did in assignment 2 factorsOfN() isn't the same as excessive numbers function.... in otherwards, you need to add 1 to the list of factors. </font>"
      ]
    },
    {
      "cell_type": "code",
      "metadata": {
        "id": "fJ2sFPp7BC6a"
      },
      "source": [
        "##########################\n",
        "# Question 1             #\n",
        "##########################\n",
        "\n",
        "def coexcessive(x,y):\n",
        "  \"\"\"function takes in 2 parameters that are integers\n",
        "  returns True if x and y are co-excessive and False otherwise\n",
        "  pre-condition: inputs are 2 positive integers\n",
        "  @type x: int\n",
        "  @type y: int\n",
        "  @rtype: bool\"\"\"\n",
        "  xsum=0\n",
        "  for i in range (1, x):\n",
        "    if (x%i) == 0:\n",
        "      xsum += i\n",
        " \n",
        "  ysum=0\n",
        "  for j in range (1, y):\n",
        "    if (y%j) == 0:\n",
        "      ysum += j\n",
        "      \n",
        "  if ysum > x and xsum > y:\n",
        "    return (True)\n",
        "  else:\n",
        "    return (False)"
      ],
      "execution_count": 59,
      "outputs": []
    },
    {
      "cell_type": "code",
      "metadata": {
        "colab": {
          "base_uri": "https://localhost:8080/"
        },
        "id": "fQBr9FsDBC6b",
        "outputId": "df6da8b2-24a3-4dda-d72a-f964831504af"
      },
      "source": [
        "### Question 1 Solution ~ 1st test command-False ###\n",
        "coexcessive(13,7)"
      ],
      "execution_count": 60,
      "outputs": [
        {
          "output_type": "execute_result",
          "data": {
            "text/plain": [
              "False"
            ]
          },
          "metadata": {
            "tags": []
          },
          "execution_count": 60
        }
      ]
    },
    {
      "cell_type": "code",
      "metadata": {
        "colab": {
          "base_uri": "https://localhost:8080/"
        },
        "id": "GX1BlKIuBC6b",
        "outputId": "9336edeb-d699-4083-8d37-45e6e6ded55a"
      },
      "source": [
        "### Question 1 Solution ~ 2nd test command ###\n",
        "coexcessive(20,18)"
      ],
      "execution_count": 61,
      "outputs": [
        {
          "output_type": "execute_result",
          "data": {
            "text/plain": [
              "True"
            ]
          },
          "metadata": {
            "tags": []
          },
          "execution_count": 61
        }
      ]
    },
    {
      "cell_type": "markdown",
      "metadata": {
        "id": "jciHbDiRJH8G"
      },
      "source": [
        "## Question #2: <font color='red'>(10 marks)</font>\n",
        "\n",
        "Write function **all_coexcessive_pairs( )** which takes as input a list, L, with positive unique integers (i.e. no duplicated integers), and should return:\n",
        "\n",
        "1-\tList (of tuples) containing all pairs of numbers in L that are co-excessive. \n",
        "\n",
        "2-\tEmpty list, If no pair of numbers in L is co-excessive. \n",
        "\n",
        "Your solution must include a function call to the function co-excessive designed in the previous question. \n",
        "The order of the tuples or the order of the two numbers within the tuples is not important.\n"
      ]
    },
    {
      "cell_type": "code",
      "metadata": {
        "id": "syYbLLHHBC6b"
      },
      "source": [
        "##########################\n",
        "# Question 2             #\n",
        "##########################\n",
        "\n",
        "def all_coexcessive_pairs(L):\n",
        "  \"\"\"function takes in a single input that is a list\n",
        "  function will return list (of tuples) containing all pairs of numbers in L that are co-excessive\n",
        "  OR return empty list if no pair of numbers in L is co-excessive\n",
        "  pre-condition: positive unique integers (i.e. no duplicated integers)\n",
        "  @type L: list\n",
        "  @rtype: list\"\"\"\n",
        "  pairs=[]\n",
        "  for i in L:\n",
        "    for j in L:\n",
        "      if i!=j:\n",
        "        coexcessive(i,j)\n",
        "        if coexcessive(i,j)== True: \n",
        "          if j>i:\n",
        "            another_list = [i,j] \n",
        "            pairs.append(another_list) \n",
        "  return (pairs)"
      ],
      "execution_count": 62,
      "outputs": []
    },
    {
      "cell_type": "code",
      "metadata": {
        "colab": {
          "base_uri": "https://localhost:8080/"
        },
        "id": "THi9W2wGBC6c",
        "outputId": "e95bc01d-e265-42be-90f6-50e014b9f14e"
      },
      "source": [
        "### Question 2 Solution ~ 1st test command ###\n",
        "\n",
        "all_coexcessive_pairs([21,36, 7,14, 42,30])"
      ],
      "execution_count": 63,
      "outputs": [
        {
          "output_type": "execute_result",
          "data": {
            "text/plain": [
              "[[36, 42], [30, 36]]"
            ]
          },
          "metadata": {
            "tags": []
          },
          "execution_count": 63
        }
      ]
    },
    {
      "cell_type": "code",
      "metadata": {
        "colab": {
          "base_uri": "https://localhost:8080/"
        },
        "id": "ZWW2qqLfBC6c",
        "outputId": "7b3c4549-b176-464e-8f3f-3806daf6771e"
      },
      "source": [
        "### Question 2 Solution ~ 2nd test command ###\n",
        "all_coexcessive_pairs([54, 56, 66,60])"
      ],
      "execution_count": 64,
      "outputs": [
        {
          "output_type": "execute_result",
          "data": {
            "text/plain": [
              "[[54, 56], [54, 60], [56, 60], [60, 66]]"
            ]
          },
          "metadata": {
            "tags": []
          },
          "execution_count": 64
        }
      ]
    },
    {
      "cell_type": "code",
      "metadata": {
        "colab": {
          "base_uri": "https://localhost:8080/"
        },
        "id": "HAE2oDoEmC1U",
        "outputId": "28ca6300-f17a-48aa-9eb7-b4f40d2b5c1a"
      },
      "source": [
        "### Question 2 Solution ~ 3rd test command ###\n",
        "all_coexcessive_pairs([32,12,56,18,67,42])"
      ],
      "execution_count": 65,
      "outputs": [
        {
          "output_type": "execute_result",
          "data": {
            "text/plain": [
              "[]"
            ]
          },
          "metadata": {
            "tags": []
          },
          "execution_count": 65
        }
      ]
    },
    {
      "cell_type": "markdown",
      "metadata": {
        "id": "73RKnfZXJIqG"
      },
      "source": [
        "## Question #3: <font color='red'>(10 marks)</font>\n",
        "\n",
        "Write a function named **mismatch( )** that perform the following:\n",
        "\n",
        "* The function should accepts two lists of integers a1 and a2 as parameters and keep any occurrences of a2 in a1, replacing the rest with -1. \n",
        "* The sequence of elements in a2 may appear anywhere in a1 but must appear consecutively and in the same order.\n",
        "* For example, if variables called a1 and a2 store the following values:\n",
        " * a1 = [1, 2, 3, 4, 1, 2, 3, 4, 5].\n",
        " * a2 = [2, 3, 4].\n",
        " * The call of mismatch(a1, a2) should modify a1's contents to be\n",
        "\n",
        "```\n",
        "a1= [-1, 2, 3, 4, -1, 2, 3, 4, -1]\n",
        "a2= [2, 3, 4]\n",
        "```\n",
        "\n",
        "* You may assume that both lists passed to your function will have lengths of at least 1. \n",
        "* If a2 is not found in a1, or if a1's length is shorter than a2's, then a1 is modified to a list of \"-1\"s when calling your function. \n",
        "* Do not return new list when a1's contents are being modified in place. <font color='red'>(do the modifications on a1, or you will get ZERO mark) </font>\n",
        "* Do not modify the contents of a2.\n",
        "* Note that the pattern can occur many times, even consecutively. For  example, the following two new lists a1 and a2:\n",
        " * a1 = [5, 5, 5, 18, 5, 42, 5, 5, 5, 5], \n",
        " * a2 = [5, 5]. \n",
        " * The call of mismatch(a1, a2) should modify a1's contents to be :\n",
        "\n",
        "```\n",
        " a1= [5, 5, 5, -1, -1, -1, 5, 5, 5, 5]\n",
        " a2= [5, 5]\n",
        "```\n",
        "\n",
        "\n",
        "\n",
        "\n"
      ]
    },
    {
      "cell_type": "code",
      "metadata": {
        "id": "yCYPb5_2BC6c"
      },
      "source": [
        "##########################\n",
        "# Question 3             #\n",
        "##########################\n",
        "def mismatch(a1,a2):\n",
        "  \"\"\"Function takes in 2 parameters that are lists of integers\n",
        "  function will keep any occurances of a2 in a1 then replacing the rest with -1\n",
        "  @type a1: list\n",
        "  @type a2: list\n",
        "  @rtype: none\"\"\"\n",
        "  lst=[False]*len(a1)\n",
        "  \n",
        "  for i in range(len(a1)+1-len(a2)):\n",
        "    flag=True\n",
        "\n",
        "    for j in range(len(a2)):\n",
        "      if a1[i+j]!= a2[j]:\n",
        "        flag=False\n",
        "        break\n",
        "    if flag:\n",
        "      for j in range(len(a2)):\n",
        "        lst[i+j]=True\n",
        "  for k in range(len(lst)):\n",
        "    if lst[k]== False:\n",
        "      a1[k]= -1\n",
        "  print(\"a1= \" + str(a1) + \"\\na2= \" + str(a2))"
      ],
      "execution_count": 66,
      "outputs": []
    },
    {
      "cell_type": "code",
      "metadata": {
        "colab": {
          "base_uri": "https://localhost:8080/"
        },
        "id": "7jpWUlbtBC6d",
        "outputId": "6877caf4-ffce-4a3f-9894-00ebf6b66988"
      },
      "source": [
        "### Question 3 Solution ~ 1st test command ###\n",
        "mismatch([1, 2, 3, 4, 1, 2, 3, 4, 5],[2, 3, 4])"
      ],
      "execution_count": 67,
      "outputs": [
        {
          "output_type": "stream",
          "text": [
            "a1= [-1, 2, 3, 4, -1, 2, 3, 4, -1]\n",
            "a2= [2, 3, 4]\n"
          ],
          "name": "stdout"
        }
      ]
    },
    {
      "cell_type": "code",
      "metadata": {
        "colab": {
          "base_uri": "https://localhost:8080/"
        },
        "id": "oiQec9B8BC6d",
        "outputId": "c41121f8-284a-4d9c-f24e-6645b3d13320"
      },
      "source": [
        "### Question 3 Solution ~ 2nd test command ###\n",
        "mismatch([5, 5, 5, 18, 5, 42, 5, 5, 5, 5], [5, 5])"
      ],
      "execution_count": 68,
      "outputs": [
        {
          "output_type": "stream",
          "text": [
            "a1= [5, 5, 5, -1, -1, -1, 5, 5, 5, 5]\n",
            "a2= [5, 5]\n"
          ],
          "name": "stdout"
        }
      ]
    },
    {
      "cell_type": "code",
      "metadata": {
        "colab": {
          "base_uri": "https://localhost:8080/"
        },
        "id": "B0hyx07nprMq",
        "outputId": "c5900d03-6f95-47b2-93a7-a9a8c519d9ff"
      },
      "source": [
        "### Question 3 Solution ~ 3rd test command ###\n",
        "mismatch([4,4,4,4], [5, 5])"
      ],
      "execution_count": 69,
      "outputs": [
        {
          "output_type": "stream",
          "text": [
            "a1= [-1, -1, -1, -1]\n",
            "a2= [5, 5]\n"
          ],
          "name": "stdout"
        }
      ]
    },
    {
      "cell_type": "code",
      "metadata": {
        "colab": {
          "base_uri": "https://localhost:8080/"
        },
        "id": "ySPhUAkgp49I",
        "outputId": "7c01c390-c953-408b-849a-f2729257f18e"
      },
      "source": [
        "### Question 3 Solution ~ 4th test command ###\n",
        "\n",
        "mismatch([4], [5, 5])"
      ],
      "execution_count": 70,
      "outputs": [
        {
          "output_type": "stream",
          "text": [
            "a1= [-1]\n",
            "a2= [5, 5]\n"
          ],
          "name": "stdout"
        }
      ]
    },
    {
      "cell_type": "markdown",
      "metadata": {
        "id": "AqYQnWn-BC6d"
      },
      "source": [
        "## Question #4: <font color='red'>(10 marks)</font>\n",
        "\n",
        "Write a function **Dice_Roll( )** that perform the following:\n",
        "* Accepts an input file name as its parameter. \n",
        "* Assume that the input file data represents results of sets of dice rolls that represented by a number from 1 to 6, without any space. \n",
        "* Your function should consider each line to be a separate set of dice rolls and should output the total and the percentage of the rolls in that line, rounded to the nearest tenth. \n",
        "* You may assume that input file contains at least 1 line of input, that each line contains at least one token, and that no tokens other than 1, 2, 3, 4, 5, or 6 will be in the lines.\n",
        "* If the percentage is more than 50%, you should print a \"You win\" message. \n",
        "* For example, consider the following input file: \n",
        " * 1234321 \n",
        " * 6666666\n",
        " * 2244661\n",
        "* For the above input, your function should produce the following output:\n",
        "\n",
        "\n",
        "```\n",
        "Your roll was 16 (38.1%)\n",
        "\n",
        "Your roll was 42 (100.0%)\n",
        "You win!\n",
        "\n",
        "Your roll was 25 (59.5%)\n",
        "You win!\n",
        "```\n",
        "\n",
        "\n"
      ]
    },
    {
      "cell_type": "code",
      "metadata": {
        "colab": {
          "base_uri": "https://localhost:8080/"
        },
        "id": "yNTFP63IvLuq",
        "outputId": "b11f222a-3961-4022-a672-acbdb92f4f66"
      },
      "source": [
        "# use this to make your google drive accessable from your notebook\n",
        "from google.colab import drive\n",
        "drive.mount('/content/drive')"
      ],
      "execution_count": 71,
      "outputs": [
        {
          "output_type": "stream",
          "text": [
            "Drive already mounted at /content/drive; to attempt to forcibly remount, call drive.mount(\"/content/drive\", force_remount=True).\n"
          ],
          "name": "stdout"
        }
      ]
    },
    {
      "cell_type": "code",
      "metadata": {
        "id": "BHbBR1aZBC6e"
      },
      "source": [
        "##########################\n",
        "# Question 4             #\n",
        "##########################\n",
        "def Dice_Roll(file):\n",
        "  \"\"\"function accepts an input file name as its parameter\n",
        "  -Function assumes that the input file data represents results of sets of dice \n",
        "  rolls that represented by a number from 1 to 6, without any space.\n",
        "  -Function will consider each line to be a separate set of dice rolls and \n",
        "  will output the total & the percentage of the rolls in that line, rounded to nearest 10th.\n",
        "  -If the percentage is more than 50%, function will \"You win\" message.\n",
        "  @type file: None\n",
        "  @rtype: none\"\"\"\n",
        "  dirctory_on_your_drive = '/content/drive/My Drive/ITI1120/A3/'\n",
        "  rows=open(dirctory_on_your_drive+file).read().splitlines()\n",
        "  \n",
        "  split_lst=[]\n",
        "  split_location=[]\n",
        "  \n",
        "  for i in range(len(rows)):\n",
        "    sum=0\n",
        "    number_len=len(rows[i])\n",
        "    for j in range(len(rows[i])):\n",
        "      split_num = int(rows[i][j])\n",
        "      sum+= split_num\n",
        "    sum_divisor= len(rows[i]) * 6\n",
        "    percentage= float(round((sum/ sum_divisor)*100,2))\n",
        "    rounded= round(percentage,1)\n",
        "    if percentage>50:\n",
        "      print(\"Your roll was \" + str (sum) + \" (\" + str (rounded) + \"%)\")\n",
        "      print(\"You win!\\n\")\n",
        "    else:\n",
        "      print(\"Your roll was \" + str (sum) + \" (\" + str (rounded) + \"%)\\n\")\n"
      ],
      "execution_count": 72,
      "outputs": []
    },
    {
      "cell_type": "code",
      "metadata": {
        "colab": {
          "base_uri": "https://localhost:8080/"
        },
        "id": "Kw3jvGUJBC6e",
        "outputId": "c1c5bd1f-c0af-48e6-a580-541bf1f72f23"
      },
      "source": [
        "### Question 4 Solution ~ test command ###\n",
        "Dice_Roll('dice_results.txt')"
      ],
      "execution_count": 73,
      "outputs": [
        {
          "output_type": "stream",
          "text": [
            "Your roll was 16 (38.1%)\n",
            "\n",
            "Your roll was 42 (100.0%)\n",
            "You win!\n",
            "\n",
            "Your roll was 25 (59.5%)\n",
            "You win!\n",
            "\n"
          ],
          "name": "stdout"
        }
      ]
    },
    {
      "cell_type": "markdown",
      "metadata": {
        "id": "ZyzanFokMfbK"
      },
      "source": [
        "## Question #5: <font color='red'>(10 marks)</font>\n",
        "\n",
        "Write a function **run( )** which is a sequence of adjacent sorted (in ascending order) values that generates a sequence of 20 random die tosses in a list and that prints the die values, marking the runs by including them in parentheses, like this:\n",
        "\n",
        "\n",
        "```\n",
        "2 (2 3) (5 6) 4 6 2 6 5 1 5 (5 6) (3 4 5) 1 4 6\n",
        "```\n",
        "\n",
        "Hint: you can use the random integer \"randint\" module in your solution"
      ]
    },
    {
      "cell_type": "code",
      "metadata": {
        "id": "TOlOhTzSBC6f"
      },
      "source": [
        "##########################\n",
        "# Question 5             #\n",
        "##########################\n",
        "import random\n",
        "def run():\n",
        "  \"\"\"function does not take in any parameters\n",
        "  function will generates a sequence of 20 random die tosses in a list and print die values\n",
        "  function will mark the runs by including them in parentheses\n",
        "  @type: none\n",
        "  @rtype: none\"\"\"\n",
        "  lst=[]\n",
        "  for i in range(1,21):\n",
        "    x = random.randint(1,6)\n",
        "    lst.append(x)\n",
        "\n",
        "    \n",
        "  for i in range(len(lst)):\n",
        "    if (i == 0 or lst[i] - lst[i-1] != 1) and i != len(lst) - 1 and lst[i+1] - lst[i] == 1:\n",
        "      print(\"(\" + str(lst[i]) +\" \",end='')\n",
        "    elif i!=0 and (lst[i]-lst[i-1]==1) and (i==len(lst)-1 or lst[i+1]-lst[i]!=1):\n",
        "      print(str(lst[i])+ \") \" , end='')\n",
        "    else:\n",
        "      print(str(lst[i]) + \" \", end='')"
      ],
      "execution_count": 74,
      "outputs": []
    },
    {
      "cell_type": "code",
      "metadata": {
        "colab": {
          "base_uri": "https://localhost:8080/"
        },
        "id": "yP14EACGBC6f",
        "outputId": "9c831501-be5d-4966-f76f-81dbbf109f8a"
      },
      "source": [
        "### Question 5 Solution ~ test command ###\n",
        "run()"
      ],
      "execution_count": 75,
      "outputs": [
        {
          "output_type": "stream",
          "text": [
            "1 5 4 6 6 5 1 4 1 5 5 2 (1 2) 2 (5 6) 1 3 5 "
          ],
          "name": "stdout"
        }
      ]
    },
    {
      "cell_type": "markdown",
      "metadata": {
        "id": "oPk1SSdLMZUU"
      },
      "source": [
        "# Question # 6: <font color='red'>(10 marks)</font>\n",
        "\n",
        "Write a function called **is_all_positive()** that takes a list of lists as a parameter and returns True if all of the integer elements of the lists are positive. <br>\n",
        "For example, if you test the following list of lists, calling **is_all_positive(lis)** should return True:<br>\n",
        "lis =[[3, 21, 9], [15, 19, 7, 13], [1, 61, 93]])<br>\n",
        "Also, If an empty list is passed to your function it should return True as well.\n"
      ]
    },
    {
      "cell_type": "code",
      "metadata": {
        "id": "IVSkPRhQBC6g"
      },
      "source": [
        "##########################\n",
        "# Question 6             #\n",
        "##########################\n",
        "\n",
        "def is_all_positive(lis):\n",
        "  \"\"\"function takes a single parameter that is a list of lists\n",
        "  Function will return True if all integer elements of the lists are positive\n",
        "  Empty list will return True\n",
        "  @type lis: list\n",
        "  @rtype: bool\"\"\"\n",
        "  empty=[]\n",
        "  T_F= True\n",
        "  if lis==empty:\n",
        "    return True\n",
        "  for i in range(len(lis)):\n",
        "    for j in range(len(lis[i])):\n",
        "      if lis[i][j]>0:\n",
        "        T_F= True\n",
        "      else:\n",
        "        T_F= False\n",
        "        print(T_F)\n",
        "        return None\n",
        "        break\n",
        "  print(T_F)\n"
      ],
      "execution_count": 76,
      "outputs": []
    },
    {
      "cell_type": "code",
      "metadata": {
        "colab": {
          "base_uri": "https://localhost:8080/"
        },
        "id": "rtDUo2-oBC6g",
        "outputId": "e7b977c8-698c-4eff-b783-12c133ba0d21"
      },
      "source": [
        "### Question 6 Solution ~ 1st test command ###\n",
        "is_all_positive([[3, 21, 9], [15, 19, 7, 13], [1, 61, 93]])"
      ],
      "execution_count": 77,
      "outputs": [
        {
          "output_type": "stream",
          "text": [
            "True\n"
          ],
          "name": "stdout"
        }
      ]
    },
    {
      "cell_type": "code",
      "metadata": {
        "colab": {
          "base_uri": "https://localhost:8080/"
        },
        "id": "WqrhuEPHBC6g",
        "outputId": "7e05cdc2-9b5c-455e-f9ae-eeac3326d967"
      },
      "source": [
        "### Question 6 Solution ~ 2nd test command ###\n",
        "is_all_positive([])"
      ],
      "execution_count": 78,
      "outputs": [
        {
          "output_type": "execute_result",
          "data": {
            "text/plain": [
              "True"
            ]
          },
          "metadata": {
            "tags": []
          },
          "execution_count": 78
        }
      ]
    },
    {
      "cell_type": "code",
      "metadata": {
        "colab": {
          "base_uri": "https://localhost:8080/"
        },
        "id": "cOdqhAw4M7QZ",
        "outputId": "c4523a2b-8a77-453c-da13-d35c793445f0"
      },
      "source": [
        "### Question 6 Solution ~ 3rd test command ###\n",
        "is_all_positive([[41, -1, 9], [6, 24, 17, 3]])"
      ],
      "execution_count": 79,
      "outputs": [
        {
          "output_type": "stream",
          "text": [
            "False\n"
          ],
          "name": "stdout"
        }
      ]
    },
    {
      "cell_type": "markdown",
      "metadata": {
        "id": "wGLlDWASBC6g"
      },
      "source": [
        "# Question # 7: <font color='red'>(10 marks)</font>\n",
        "\n",
        "Write a function **Maxima_Minima( )** perform the following:\n",
        "* Accepts a list of lists as a parameter and returns the  maxima and minima of the list of lists, which are defined as  the largest and smallest elements. <br>\n",
        " * For example, if a variable called **L** stores the following values: <br>\n",
        "[[18, 24, 4], [12, 7, 25], [21, 3, 5]] <br>\n",
        "<br>\n",
        " * The call of **Maxima_Minima(L)** should return the list [3, 25].\n",
        "* Do not make any assumptions about the range of numbers in  the list of lists. \n",
        "* Do not alter the list. \n",
        "* Do not create any other data structures other than lists.\n",
        "* An empty list has [0, 0] as its minima and maxima. "
      ]
    },
    {
      "cell_type": "code",
      "metadata": {
        "id": "YMOwrYkqBC6h"
      },
      "source": [
        "##########################\n",
        "# Question 7             #\n",
        "##########################\n",
        "def Maxima_Minima(lis):\n",
        "  \"\"\"Function takes in a single parameter that is a list of lists\n",
        "  Functions will returns the maxima and minima of the list of lists, which are \n",
        "  defined as the largest and smallest elements.\n",
        "  @type lis: list\n",
        "  @rtype: none\"\"\"\n",
        "  if len(lis)==0:\n",
        "    return [0,0]\n",
        "  empty_lst=[lis[0][0],lis[0][0]]\n",
        "  \n",
        "  ##max\n",
        "  for i in range(len(lis)):\n",
        "    for j in range(len(lis[i])):\n",
        "      if lis[i][j]> empty_lst[1]:\n",
        "        empty_lst[1]= lis[i][j]\n",
        "  \n",
        "  ##min\n",
        "  min_lis=[]\n",
        "  for i in range(len(lis)):\n",
        "    for j in range(len(lis[i])):  \n",
        "      Min_num=min(lis[i])\n",
        "      min_lis.append(Min_num)\n",
        "  lowest=min(min_lis)\n",
        "  empty_lst[0]= lowest\n",
        "\n",
        "  print(empty_lst)\n",
        "\n"
      ],
      "execution_count": 80,
      "outputs": []
    },
    {
      "cell_type": "code",
      "metadata": {
        "colab": {
          "base_uri": "https://localhost:8080/"
        },
        "id": "9I9n11xTBC6h",
        "outputId": "b0e1fee1-699a-4f36-be53-71eb433fb0ad"
      },
      "source": [
        "### Question 7 Solution ~ 1st test command ###\n",
        "Maxima_Minima([[18, 24, 4], [12, 7, 25], [21, 3, 5]])"
      ],
      "execution_count": 81,
      "outputs": [
        {
          "output_type": "stream",
          "text": [
            "[3, 25]\n"
          ],
          "name": "stdout"
        }
      ]
    },
    {
      "cell_type": "code",
      "metadata": {
        "colab": {
          "base_uri": "https://localhost:8080/"
        },
        "id": "bdptJgyRsHT2",
        "outputId": "8cc526bb-6c3c-4214-b36b-f2407f9d6578"
      },
      "source": [
        "### Question 7 Solution ~ 2nd test command ###\n",
        "Maxima_Minima([[-22, -54, -543], [-3, -43, -2], [-21, -3, -18]])"
      ],
      "execution_count": 82,
      "outputs": [
        {
          "output_type": "stream",
          "text": [
            "[-543, -2]\n"
          ],
          "name": "stdout"
        }
      ]
    },
    {
      "cell_type": "markdown",
      "metadata": {
        "id": "hq4B5AwGBC6h"
      },
      "source": [
        "# Question # 8: <font color='red'>(15 marks)</font>\n",
        "\n",
        "as a Fan of the french game Belote, hamzah wants you to write a function called **Belote_Declarations()** which perform the following:\n",
        "* Simulate solution for the coupon collector, which is a classic statistics problem with many practical applications:\n",
        "* The problem is to pick  objects from a set of objects repeatedly and find out how many picks are needed for all the objects to be picked at least once. \n",
        "* A variation of the problem is to get the quinte-tierce declaration in Belote (8-card sequence [7, 8, 9, 10, J, Q, K, A] regardless of the suits) by picking cards from a shuffled deck of 32 cards (note that in Belote cards from 2 to 6 are not used) repeatedly and find out how many picks are needed before you get the quinte-tierce declaration. \n",
        "* Assume a picked card is placed back in the deck before picking another.\n",
        "* number of picks needed to get the eight cards sequence, one from each rank and display the eight cards picked (it is possible a card may be picked twice)\n",
        "* Hint: you can use the random integer \"randint\" module in your solution"
      ]
    },
    {
      "cell_type": "code",
      "metadata": {
        "id": "-kJBT8ZKEu6B"
      },
      "source": [
        "##########################\n",
        "# Question 8             #\n",
        "##########################\n",
        "import random\n",
        "def Belote_Declarations():\n",
        "  \"\"\"function does not take in any parameters\n",
        "  function will choose randomly a set of cards to reach a quinte-tierce declaration\n",
        "  (eight cards sequence, one from each rank)\n",
        "  @type: none\n",
        "  @rtype: none\"\"\"\n",
        "  cards_s=['Hearts', 'Spades', 'Diamonds', 'Clubs']\n",
        "  cards_v=['7', '8', '9', '10', 'Jack', 'Queen', 'King', 'Ace']\n",
        "  count_picks=0\n",
        "  lst_ranks=[]\n",
        "  quinte_tierce=True\n",
        "  \n",
        "  while quinte_tierce== True:\n",
        "    suit=cards_s[random.randrange(0,4)]\n",
        "    number=cards_v[random.randrange(0,8)]\n",
        "\n",
        "    if number not in lst_ranks:\n",
        "      lst_ranks.append(number)\n",
        "      print(number + ' of ' + suit)\n",
        "    count_picks+=1\n",
        "    if len(lst_ranks)==8:\n",
        "      quinte_tierce= False\n",
        "\n",
        "      \n",
        "\n",
        "  print(\"Number of picks: \" + str (count_picks))"
      ],
      "execution_count": 83,
      "outputs": []
    },
    {
      "cell_type": "code",
      "metadata": {
        "colab": {
          "base_uri": "https://localhost:8080/"
        },
        "id": "BwBXmyd5Uffb",
        "outputId": "1fd4f664-8027-4193-8f4c-318a40f1d446"
      },
      "source": [
        "### Question 8 Solution ~ 1st test command ###\n",
        "Belote_Declarations()"
      ],
      "execution_count": 84,
      "outputs": [
        {
          "output_type": "stream",
          "text": [
            "King of Spades\n",
            "7 of Spades\n",
            "Ace of Hearts\n",
            "Queen of Clubs\n",
            "10 of Hearts\n",
            "Jack of Clubs\n",
            "8 of Clubs\n",
            "9 of Spades\n",
            "Number of picks: 18\n"
          ],
          "name": "stdout"
        }
      ]
    },
    {
      "cell_type": "markdown",
      "metadata": {
        "id": "u6yM_qfeMfgw"
      },
      "source": [
        "# Question #9: <font color='red'>(15 marks)</font>\n",
        "\n",
        "Write a **curfew_hangman( )** that randomly generates a word and prompts the user to guess one letter at a time, as shown in the sample run. \n",
        "* Each letter in the word is displayed as a star. \n",
        "* When the user makes a correct guess, the actual letter is then displayed.\n",
        "* the game will keep track of number of mistakes and if it exceeds the number of letters, the game terminates.  \n",
        "* When the user finishes a word, display the number of misses and ask the user whether to continue playing. \n",
        "* Create a list to store the words, as follows:\n",
        "\n",
        "  `words = [\"hamzah\", \"hate\", \"covid\", \"however\", \"love\", \"pineapple\", \"pizza\", \"with\", \"coffee\"]`\n",
        "\n",
        "* For example, running the program should show the following output:\n",
        "\n",
        "\n",
        "\n",
        "```\n",
        "(Guess) Enter a letter in word **** > L\n",
        "\t l is not in the word\n",
        "(Guess) Enter a letter in word **** > H\n",
        "(Guess) Enter a letter in word ***h > w\n",
        "(Guess) Enter a letter in word w**h > i\n",
        "(Guess) Enter a letter in word wi*h > t\n",
        "The word is with. You missed 1 time\n",
        "Do you want to guess for another word? Enter y or n> y\n",
        "(Guess) Enter a letter in word ****** > w\n",
        "\t w is not in the word\n",
        "(Guess) Enter a letter in word ****** > a\n",
        "(Guess) Enter a letter in word *a**a* > s\n",
        "\t s is not in the word\n",
        "(Guess) Enter a letter in word *a**a* > i\n",
        "\t i is not in the word\n",
        "(Guess) Enter a letter in word *a**a* > m\n",
        "(Guess) Enter a letter in word *am*a* > e\n",
        "\t e is not in the word\n",
        "(Guess) Enter a letter in word *am*a* > l\n",
        "\t l is not in the word\n",
        "(Guess) Enter a letter in word *am*a* > a\n",
        "\t a is already in the word\n",
        "(Guess) Enter a letter in word *am*a* > x\n",
        "\t x is not in the word\n",
        "The word is hamzah. You missed 6 times\n",
        "Do you want to guess for another word? Enter y or n> n\n",
        "Finished\n",
        "```\n",
        "\n",
        "\n"
      ]
    },
    {
      "cell_type": "code",
      "metadata": {
        "id": "A5SYOJhJBC6h"
      },
      "source": [
        "##########################\n",
        "# Question 9             #\n",
        "##########################\n",
        "import random\n",
        "def curfew_hangman():\n",
        "  \"\"\"function does not take any parameters\n",
        "  Fuction randomly generates a word and prompts the user to guess one letter at a time.\n",
        "  Each letter in the word is displayed as a star.\n",
        "  When the user makes a correct guess, the actual letter is then displayed.\n",
        "  If it exceeds the number of letters, the game terminates.\n",
        "  When the user finishes a word, display the number of misses and ask the user whether to continue playing.\n",
        "  @type: none\n",
        "  @rtype :none\"\"\"\n",
        "  words = [\"hamzah\", \"hate\", \"covid\", \"however\", \"love\", \"pineapple\", \"pizza\", \"with\", \"coffee\"]\n",
        "  user_ans= ''\n",
        "  while user_ans!= 'n':\n",
        "    wrongGuesses = 0\n",
        "    listOfGuesses = []\n",
        "    to_guess = random.choice(words)\n",
        "    to_guess = to_guess.lower()\n",
        "    \n",
        "    guessed  = \"*\"*len(to_guess)\n",
        "\n",
        "    while True:#wrongGuesses != len(to_guess)): \n",
        "      if wrongGuesses == len(to_guess):\n",
        "        print(\"The word is \" + str(to_guess) + \". You missed \" + str(wrongGuesses) + \" time\" )\n",
        "        user_ans=str(input(\"Do you want to guess for another word? Enter y or n> \"))\n",
        "        break\n",
        "      else:\n",
        "        x = input(\"(Guess) Enter a letter in word \"+ str(guessed) +\" > \").lower() \n",
        "      \n",
        "      if x in listOfGuesses:\n",
        "          print(x, \" is already in the word or already guessed\")\n",
        "      elif x in to_guess:\n",
        "        new_guessed = \"\"\n",
        "        listOfGuesses.append(x)\n",
        "        for i, char in enumerate(to_guess):\n",
        "          if char == x:\n",
        "            new_guessed += x\n",
        "          else:\n",
        "            new_guessed += guessed[i]\n",
        "        guessed = new_guessed \n",
        "        if guessed == to_guess or wrongGuesses == len(to_guess)-1:\n",
        "            print(\"The word is \" + str(to_guess) + \". You missed \" + str(wrongGuesses) + \" time\" )\n",
        "            user_ans=str(input(\"Do you want to guess for another word? Enter y or n> \"))\n",
        "            break    \n",
        "      else:\n",
        "          print(\"\\t\",x,\"is not in the word.\")\n",
        "          wrongGuesses += 1\n",
        "          listOfGuesses.append(x)\n"
      ],
      "execution_count": 85,
      "outputs": []
    },
    {
      "cell_type": "code",
      "metadata": {
        "colab": {
          "base_uri": "https://localhost:8080/"
        },
        "id": "Ky6RQU8LYUVh",
        "outputId": "c1f911bc-ced9-409a-a0d4-7da270c58042"
      },
      "source": [
        "### Question 9 Solution ~ 1st test command ###\n",
        "curfew_hangman() "
      ],
      "execution_count": 86,
      "outputs": [
        {
          "output_type": "stream",
          "text": [
            "(Guess) Enter a letter in word ****** > c\n",
            "\t c is not in the word.\n",
            "(Guess) Enter a letter in word ****** > h\n",
            "(Guess) Enter a letter in word h****h > a\n",
            "(Guess) Enter a letter in word ha**ah > m\n",
            "(Guess) Enter a letter in word ham*ah > z\n",
            "The word is hamzah. You missed 1 time\n",
            "Do you want to guess for another word? Enter y or n> y\n",
            "(Guess) Enter a letter in word ******* > h\n",
            "(Guess) Enter a letter in word h****** > o\n",
            "(Guess) Enter a letter in word ho***** > w\n",
            "(Guess) Enter a letter in word how**** > e\n",
            "(Guess) Enter a letter in word howe*e* > v\n",
            "(Guess) Enter a letter in word howeve* > e\n",
            "e  is already in the word or already guessed\n",
            "(Guess) Enter a letter in word howeve* > r\n",
            "The word is however. You missed 0 time\n",
            "Do you want to guess for another word? Enter y or n> y\n",
            "(Guess) Enter a letter in word ********* > p\n",
            "(Guess) Enter a letter in word p****pp** > i\n",
            "(Guess) Enter a letter in word pi***pp** > n\n",
            "(Guess) Enter a letter in word pin**pp** > e\n",
            "(Guess) Enter a letter in word pine*pp*e > a\n",
            "(Guess) Enter a letter in word pineapp*e > l\n",
            "The word is pineapple. You missed 0 time\n",
            "Do you want to guess for another word? Enter y or n> y\n",
            "(Guess) Enter a letter in word ***** > c\n",
            "(Guess) Enter a letter in word c**** > v\n",
            "(Guess) Enter a letter in word c*v** > w\n",
            "\t w is not in the word.\n",
            "(Guess) Enter a letter in word c*v** > e\n",
            "\t e is not in the word.\n",
            "(Guess) Enter a letter in word c*v** > r\n",
            "\t r is not in the word.\n",
            "(Guess) Enter a letter in word c*v** > f\n",
            "\t f is not in the word.\n",
            "(Guess) Enter a letter in word c*v** > a\n",
            "\t a is not in the word.\n",
            "The word is covid. You missed 5 time\n",
            "Do you want to guess for another word? Enter y or n> n\n"
          ],
          "name": "stdout"
        }
      ]
    }
  ]
}
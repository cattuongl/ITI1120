{
  "nbformat": 4,
  "nbformat_minor": 0,
  "metadata": {
    "celltoolbar": "Raw Cell Format",
    "colab": {
      "name": "A4_300001854.ipynb",
      "provenance": [],
      "collapsed_sections": [
        "GrAKu-PaMM4R"
      ]
    },
    "kernelspec": {
      "display_name": "Python 3",
      "language": "python",
      "name": "python3"
    },
    "language_info": {
      "codemirror_mode": {
        "name": "ipython",
        "version": 3
      },
      "file_extension": ".py",
      "mimetype": "text/x-python",
      "name": "python",
      "nbconvert_exporter": "python",
      "pygments_lexer": "ipython3",
      "version": "3.7.4"
    }
  },
  "cells": [
    {
      "cell_type": "markdown",
      "metadata": {
        "id": "GrAKu-PaMM4R"
      },
      "source": [
        "#<font color='Green'> Course:  ITI1120 - F Winter 2021</font>\n",
        "#<font color='Green'>Assignment Number: 04</font>\n",
        " \n",
        "# Due Date: <font color='red'>Wednesday, April 7, 2021 11:30 PM"
      ]
    },
    {
      "cell_type": "markdown",
      "metadata": {
        "id": "Dt1m9d3jBC6Z"
      },
      "source": [
        "<font color='red'> ----- To be filled by the student ----</font>\n",
        "\n",
        "# Family name, Given name : Le, Cattuong\n",
        "# Student number : 300001854\n"
      ]
    },
    {
      "cell_type": "markdown",
      "metadata": {
        "id": "9gM_B6zW-Sa1"
      },
      "source": [
        "<font color='red'>\n",
        "    \n",
        "### Instructions: <font color='blue'> (Refer to assignment PDF copy for full instructions) <font>\n",
        "***\n",
        "  \n",
        "**Marks will be deducted if assignments instructions not followed; to enforce compliance and making the assignment correction process efficient and effective** \n",
        "***\n",
        "\n",
        "<font color='green'>\n",
        "\n",
        "1. Write your full name and student number in the first cell above (double click to edit).\n",
        "* Do NOT submit assignment solution file in zip format.\n",
        "* Do NOT change the questions order.\n",
        "* Use the provided function names (on top of each solution cell to develop your solution) and the testing command examples (below each solution cell to test your solution).\n",
        "* Do NOT delete the provided testing command examples below each solution cell.\n",
        "* Test that your notebook file is functioning without loading or opening errors.\n",
        "* Pay attention to each question in details and understand well.\n",
        "* Provide complete and meaningful docstrings for each function you develop, docstring must include: type contract, function description, including parameter names,preconditions if any.\n",
        "    \n"
      ]
    },
    {
      "cell_type": "markdown",
      "metadata": {
        "id": "-WpbbbKFIVrM"
      },
      "source": [
        "## Question #1: <font color='red'>(10 marks)</font>\n",
        "\n",
        "Write a function, **secondary_minima_maxima(a)**, that returns the difference of the 2nd maxima and minima in the list a. For simplicity, you may assume that the numbers in the list a are all distinct and that the list a has at least 4 elements.For example:\n",
        "    \n",
        "\n",
        "\n",
        "```\n",
        "print(secondary_minima_maxima([5,-1, -2, 0, 2, 50, 100, 200, 70, 45]))\n",
        ">>> 101\n",
        "```\n",
        "\n",
        "\n",
        "\n",
        "\n",
        " <font color='red'> Note that you are not allowed to do any sorting</font>"
      ]
    },
    {
      "cell_type": "code",
      "metadata": {
        "id": "cVHp1ERF-Sa2"
      },
      "source": [
        "##########################\n",
        "# Question 1             #\n",
        "##########################\n",
        "\n",
        "def secondary_minima_maxima(a):\n",
        "    \"\"\"Function takes in a single parameter called a that is a list\n",
        "    Function returns the difference of the 2nd maxima and the 2nd minima in the given list\n",
        "    @type a: list\n",
        "    @rtype: int\n",
        "    \"\"\"\n",
        "    maximum = a[0]\n",
        "    minimum = a[0]\n",
        "    second_min = None\n",
        "    second_max= None\n",
        "    for i in a[1:]:\n",
        "        if(i > maximum):\n",
        "            second_max=maximum\n",
        "            maximum = i\n",
        "        elif(second_max== None or second_max<i):\n",
        "            second_max= i\n",
        "        if(i < minimum):\n",
        "            second_min = minimum\n",
        "            minimum = i\n",
        "        elif(second_min == None or second_min > i):\n",
        "            second_min = i\n",
        "        \n",
        "    diff= second_max- second_min\n",
        "    return (diff)    \n",
        "    "
      ],
      "execution_count": 14,
      "outputs": []
    },
    {
      "cell_type": "code",
      "metadata": {
        "colab": {
          "base_uri": "https://localhost:8080/"
        },
        "id": "FBJygorq-Sa3",
        "outputId": "0db5085d-27d4-45e4-8601-b09436706f50"
      },
      "source": [
        "### Question 1 ~ test command ###\n",
        "print(secondary_minima_maxima([5,-1, -2, 0, 2, 50, 100, 200, 70, 45]))"
      ],
      "execution_count": 15,
      "outputs": [
        {
          "output_type": "stream",
          "text": [
            "101\n"
          ],
          "name": "stdout"
        }
      ]
    },
    {
      "cell_type": "markdown",
      "metadata": {
        "id": "jciHbDiRJH8G"
      },
      "source": [
        "## Question #2: <font color='red'>(10 marks)</font>\n",
        "\n",
        "Write a function called **distinctive(set1, list1)** that takes two parameter; a set of integers, set1, and a list of integers, list1, and returns a new set containing values that only appear in one of them but not the other.\n",
        "\n",
        "You are not allowed to construct any structures, besides the set you will return, to solve this problem.\n",
        "You may not alter the passed in list or set.\n",
        "You may not convert the list to a set.<br>\n",
        "For example: \n",
        "* if set1= {0, 19, 8, 9, 12, 13, 14, 15} and list1= [0, 19, 2, 4, 5, 9, 10, 11], <br>\n",
        "\n",
        "\n",
        "```\n",
        "distinctive(set1, list1) \n",
        ">>> {2, 4, 5, 8, 10, 11, 12, 13, 14, 15}\n",
        "```\n",
        "\n"
      ]
    },
    {
      "cell_type": "code",
      "metadata": {
        "id": "_I9CEbnp-Sa3"
      },
      "source": [
        "##########################\n",
        "# Question 2             #\n",
        "##########################\n",
        "\n",
        "def distinctive(set1, list1):\n",
        "  \"\"\"Function takes in 2 parameters that is a list (list1) and a set of integers (set1)\n",
        "  Function prints a new set containing values that only appear in one of them, but not the other\n",
        "  @type set1: set\n",
        "  @type list1: list\n",
        "  @rtype: set\n",
        "  \"\"\"\n",
        "  s = set()\n",
        "  for i in set1:\n",
        "    if i not in list1:\n",
        "        s.add(i)\n",
        "  for j in list1:\n",
        "    if j not in set1:\n",
        "        s.add(j)\n",
        "  return (s)\n"
      ],
      "execution_count": 16,
      "outputs": []
    },
    {
      "cell_type": "code",
      "metadata": {
        "colab": {
          "base_uri": "https://localhost:8080/"
        },
        "id": "B1BkPc2w-Sa3",
        "outputId": "67bb3973-f545-4089-f1ba-711e5266e0f4"
      },
      "source": [
        "### Question 2 ~ test command ###\n",
        "set1= {0, 19, 8, 9, 12, 13, 14, 15} \n",
        "list1= [0, 19, 2, 4, 5, 9, 10, 11]\n",
        "distinctive(set1, list1) "
      ],
      "execution_count": 17,
      "outputs": [
        {
          "output_type": "execute_result",
          "data": {
            "text/plain": [
              "{2, 4, 5, 8, 10, 11, 12, 13, 14, 15}"
            ]
          },
          "metadata": {
            "tags": []
          },
          "execution_count": 17
        }
      ]
    },
    {
      "cell_type": "markdown",
      "metadata": {
        "id": "73RKnfZXJIqG"
      },
      "source": [
        "## Question #3: <font color='red'>(10 marks)</font>\n",
        "\n",
        "Write a function, **longest_repetition(a)**, that returns the length of the longest run of repetition  in **list a**. If no runs exists in **list a**, then this function returns one. For  example:\n",
        "\n",
        "\n",
        "\n",
        "```\n",
        "print(longest_repetition([4,1,2,4,7,9,4]))\n",
        ">>> 3\n",
        "print(longest_repetition([5,3,5,6,9,4,4,4,4]))\n",
        ">>>4\n",
        "print(longest_repetition([1000, 1, 100, 2, 99, 200, -100]))\n",
        ">>>1\n",
        "```\n",
        "\n",
        "\n",
        "\n",
        "\n",
        "<font color='red'> note that you are allowed to loop through the list only once excluding sorting.</font>"
      ]
    },
    {
      "cell_type": "code",
      "metadata": {
        "id": "HE1mMqmr-Sa4"
      },
      "source": [
        "##########################\n",
        "# Question 3             #\n",
        "##########################\n",
        "\n",
        "def longest_repetition(a):\n",
        "    \"\"\"Function takes in a single parameter that is a list of integers (a)\n",
        "    Function will return the length of the longest run of repetition in give list\n",
        "    If no runs exist in list, function will return 1\n",
        "    @type a: list\n",
        "    @rtype: int\"\"\"\n",
        "    a.sort()\n",
        "    counter=0\n",
        "    highest_count=1\n",
        "    for i in range(len(a)):\n",
        "      if (i == 0 or a[i] - a[i-1] != 0) and i != len(a) - 1 and a[i+1] - a[i] == 0:\n",
        "        counter+=1  \n",
        "      elif i!=0 and (a[i]-a[i-1]==0) and (a[i]-a[i+1]==0):\n",
        "        counter+=1  \n",
        "      elif (a[i]-a[i-1]==0 and a[i+1]-a[i]!=0) and (i==len(a)-1 or a[i+1]-a[i]!=0):\n",
        "        counter+=1\n",
        "        if counter> highest_count:\n",
        "          highest_count= counter\n",
        "        counter=0\n",
        "    return (highest_count)\n"
      ],
      "execution_count": 18,
      "outputs": []
    },
    {
      "cell_type": "code",
      "metadata": {
        "colab": {
          "base_uri": "https://localhost:8080/"
        },
        "id": "laHVKpab-Sa5",
        "outputId": "6736a418-7750-4078-ff7f-36391df8e208"
      },
      "source": [
        "### Question 3 ~ test command ###\n",
        "print(longest_repetition([4,1,2,4,7,9,4]))\n",
        "print(longest_repetition([5,3,5,6,9,4,4,4,4]))\n",
        "print(longest_repetition([1000, 1, 100, 2, 99, 200, -100]))"
      ],
      "execution_count": 19,
      "outputs": [
        {
          "output_type": "stream",
          "text": [
            "3\n",
            "4\n",
            "1\n"
          ],
          "name": "stdout"
        }
      ]
    },
    {
      "cell_type": "markdown",
      "metadata": {
        "id": "DvWtOnZx-Sa5"
      },
      "source": [
        "## Question #4: <font color='red'>(10 marks)</font>\n",
        "\n",
        "Write a function, **multiplication_threshold(a,x)**, that takes **list a** as an input and returns a **set** of all the results of multiplying each element of a by all elements in a (including itself) that is smaller than the threshold x. \n",
        "\n",
        "For example, \n",
        "\n",
        "\n",
        "\n",
        "```\n",
        "print(multiplication_threshold([ 2, 6,55, 90],103))\n",
        ">>>{4, 12, 36}\n",
        "print(multiplication_threshold([3,-1,4],9))\n",
        ">>>{9, -4, -3, 1}\n",
        "print(multiplication_threshold([-1, 1, 5, 8, 2, 6], 3))\n",
        ">>>{1, 2, -2, -8, -6, -5, -1}\n",
        "print(multiplication_threshold([-10,2,3], -18))\n",
        ">>>{-30, -20}\n",
        "print(multiplication_threshold([1, 1, 5, 2, 6],1000))\n",
        ">>>{1, 2, 4, 5, 6, 36, 10, 12, 25, 30}\n",
        "```\n",
        "\n"
      ]
    },
    {
      "cell_type": "code",
      "metadata": {
        "id": "3U_On31b-Sa5"
      },
      "source": [
        "##########################\n",
        "# Question 4             #\n",
        "##########################\n",
        "def multiplication_threshold(a,x):\n",
        "  \"\"\"Function takes in 2 parameters, one is a list (a) and the other is a integer (x)\n",
        "  Function will return a set of all the results of multiplying each element of given list by all\n",
        "  elements in given list (including itself) that is smaller than or equal to the given integer\n",
        "  @type a: list\n",
        "  @type x: int\n",
        "  @rtype: set\"\"\"\n",
        "  below=set()\n",
        "  for j in range(len(a)):\n",
        "    for i in range(len(a)):\n",
        "        m=a[i]*a[j]\n",
        "        if m <= x:\n",
        "          below.add(m)\n",
        "\n",
        "  return (below)\n"
      ],
      "execution_count": 20,
      "outputs": []
    },
    {
      "cell_type": "code",
      "metadata": {
        "colab": {
          "base_uri": "https://localhost:8080/"
        },
        "id": "oaZRGphO-Sa5",
        "outputId": "61e84694-151e-4229-9c65-265312e304d4"
      },
      "source": [
        "### Question 4  ~ test command ###\n",
        "print(multiplication_threshold([2, 6,55, 90],103))\n",
        "print(multiplication_threshold([3,-1,4],9))\n",
        "print(multiplication_threshold([-1, 1, 5, 8, 2, 6], 3))\n",
        "print(multiplication_threshold([-10,2,3], -18))\n",
        "print(multiplication_threshold([1, 1, 5, 2, 6],1000))"
      ],
      "execution_count": 21,
      "outputs": [
        {
          "output_type": "stream",
          "text": [
            "{4, 12, 36}\n",
            "{9, -4, -3, 1}\n",
            "{1, 2, -2, -8, -6, -5, -1}\n",
            "{-30, -20}\n",
            "{1, 2, 4, 5, 6, 36, 10, 12, 25, 30}\n"
          ],
          "name": "stdout"
        }
      ]
    },
    {
      "cell_type": "markdown",
      "metadata": {
        "id": "ZyzanFokMfbK"
      },
      "source": [
        "## Question #5: <font color='red'>(10 marks)</font>\n",
        "\n",
        "\n",
        "Implement a recursive python function **even_multiplication(n)** to compute the multiplication of all even numbers between 0 and a given **integer n**. \n",
        "* the function must call itself n-1 times. \n",
        "\t\n",
        "* Examples:\n",
        "\n",
        "\n",
        "```\n",
        "print (even_multiplication(3))\n",
        ">>>2\n",
        "print (even_multiplication(4))\n",
        ">>>8\n",
        "print (even_multiplication(8))\n",
        ">>>384\n",
        "print (even_multiplication(9))\n",
        ">>>384\n",
        "```\n",
        "\n"
      ]
    },
    {
      "cell_type": "code",
      "metadata": {
        "id": "carSWPCp-Sa6"
      },
      "source": [
        "##########################\n",
        "# Question 5             #\n",
        "##########################\n",
        "\n",
        "def even_multiplication(n):\n",
        "  \"\"\"function takes in a single parameter that is an integer\n",
        "  function will return the multiplication of all even numbers between 0 and a given integer n\n",
        "  @type n: int\n",
        "  @rtype: int\n",
        "  precondition: n>1\n",
        "  \"\"\"\n",
        "\n",
        "  if n==1:\n",
        "    return 1\n",
        "  elif n%2==0:\n",
        "    return even_multiplication(n-1)*n\n",
        "  else:\n",
        "    return even_multiplication(n-1)\n",
        "\n"
      ],
      "execution_count": 22,
      "outputs": []
    },
    {
      "cell_type": "code",
      "metadata": {
        "colab": {
          "base_uri": "https://localhost:8080/"
        },
        "id": "oftFWkji-Sa6",
        "outputId": "6df9c70b-e90d-4375-be10-7aaa9ad8a787"
      },
      "source": [
        "### Question 5 ~ 1st test command ###\n",
        "print (even_multiplication(3))\n",
        "print (even_multiplication(4))\n",
        "print (even_multiplication(8))\n",
        "print (even_multiplication(9))"
      ],
      "execution_count": 23,
      "outputs": [
        {
          "output_type": "stream",
          "text": [
            "2\n",
            "8\n",
            "384\n",
            "384\n"
          ],
          "name": "stdout"
        }
      ]
    },
    {
      "cell_type": "markdown",
      "metadata": {
        "id": "dUkpej9B-Sa7"
      },
      "source": [
        "## Question # 6: <font color='red'>(30 marks)</font>\n",
        "\n",
        "1. Write **bubble_sort(a)** function to execute bubble sort algorithm, which is a simple sorting algorithm that repeatedly steps through a list, compares adjacent elements and swaps them if they are in the wrong order, until the list is sorted. The algorithm, which is a comparison sort, is named for the way smaller or larger elements \"bubble\" to the top of the list. <font color='red'>(10 marks)</font>\n",
        "\n",
        "* Write **optimized_bubble_sort(a)** function which is an **optimized** version bubble sort algorithm that reduce the number of swaps and comparisons. <font color='red'>(10 marks)</font>\n",
        "* Write **generate_unsorted_list(n)** function which generates random unsorted list (an array) with 10,000 elements to test above mentioned algorithms. <font color='red'>(5 marks)</font>\n",
        "* Write code to calculate (i) The Execution time for each algorithm, (ii) The saved execution time using optimized bubble sort algorithm in comparison to the bubble sort algorithm. <font color='red'>(5 marks)</font>\n",
        "\n",
        "For example, executing your entire program should return the following:\n",
        "\n",
        "\n",
        "\n",
        "```\n",
        "Bubble Sort Algorithm execution time = 8.794462203979492 seconds.\n",
        "Optimized Bubble Sort Algorithm execution time = 0.0011148452758789062 seconds.\n",
        "Execution time saved using Optimized Bubble Sort Algorithm =  8.793347358703613 seconds.\n",
        "```\n",
        "\n",
        "\n",
        "\n",
        "<br>\n",
        "\n",
        "**Hint: you can use the random integer \"randint\" and \"time\" modules in your solution**"
      ]
    },
    {
      "cell_type": "code",
      "metadata": {
        "id": "vm5xFjZml0PQ",
        "colab": {
          "base_uri": "https://localhost:8080/"
        },
        "outputId": "233cbe90-019e-4aeb-a400-a2e00ccf8af1"
      },
      "source": [
        "##########################\n",
        "# Question 6 Solution\n",
        "##########################\n",
        "from random import randint\n",
        "from time import time\n",
        "\n",
        "def bubble_sort(a):\n",
        "  \"\"\"function takes in a single parameter that is a list (a)\n",
        "  function execute bubble sort algorithm and return the time taken to execute function\n",
        "  @type a:list\n",
        "  @rtype: float\"\"\"\n",
        "  start = time()\n",
        "    \n",
        "  for i in range(len(a)):\n",
        "    for j in range(len(a)-1):\n",
        "      if a[j]>a[j+1]:\n",
        "        a[j],a[j+1]=a[j+1], a[j]\n",
        "  end = time()\n",
        "  return (end-start)\n",
        "       \n",
        "      \n",
        "def optimized_bubble_sort(a):\n",
        "  \"\"\"function takes in a single parameter that is a list (a)\n",
        "  function execute an optimized bubble sort algorithm and return the time taken to execute function\n",
        "  @type a:list\n",
        "  @rtype: float\"\"\"\n",
        "  start = time()\n",
        "    \n",
        "  for i in range(len(a)):\n",
        "    for j in range(len(a)-i-1):\n",
        "      if a[j]>a[j+1]:\n",
        "        a[j],a[j+1]=a[j+1], a[j]\n",
        "  end = time()\n",
        "  return (end-start)\n",
        "\n",
        "def generate_unsorted_list(n):\n",
        "  \"\"\"Function takes in a single parameter that is an integer (n)\n",
        "  Function will generate a random unsorted list\n",
        "  @type n: int\n",
        "  @rtype: list\n",
        "  \"\"\"\n",
        "  a=[]\n",
        "  for i in range(n):\n",
        "    x = randint(1,100)\n",
        "    a.append(x)\n",
        "  return a\n",
        "\n",
        "x=bubble_sort(generate_unsorted_list(10000))\n",
        "print(\"Bubble Sort Algorithm execution time = \" + str(x) + \" seconds.\")\n",
        "\n",
        "y=optimized_bubble_sort(generate_unsorted_list(10000))\n",
        "print(\"Optimized Bubble Sort Algorithm execution time = \" + str(y) + \" seconds.\")\n",
        "\n",
        "z=x-y\n",
        "print(\"Execution time saved using Optimized Bubble Sort Algorithm = \" + str(z) + \" seconds.\")\n",
        "\n",
        "\n",
        "\n",
        "\n",
        "    "
      ],
      "execution_count": 24,
      "outputs": [
        {
          "output_type": "stream",
          "text": [
            "Bubble Sort Algorithm execution time = 15.800621509552002 seconds.\n",
            "Optimized Bubble Sort Algorithm execution time = 9.90144395828247 seconds.\n",
            "Execution time saved using Optimized Bubble Sort Algorithm = 5.899177551269531 seconds.\n"
          ],
          "name": "stdout"
        }
      ]
    },
    {
      "cell_type": "markdown",
      "metadata": {
        "id": "8lmF1Ztr-Sa8"
      },
      "source": [
        "# Question # 7: <font color='red'>(20 marks)</font>\n",
        "\n",
        "Write **employee()** which is a Python class constructed based on two user input; age and salary and two methods to calculate and return years to retirement ( at the age of 60)  and income tax (13% of the employee salary). when you run your program, you should get the following \n",
        "\n",
        "\n",
        "\n",
        "```\n",
        "Enter the age of the employee:50\n",
        "Enter the employee salary: 10000\n",
        ">>>the employee still have  10  years to retire\n",
        ">>>the employee pays  1300.0  dollars in taxes\n",
        "```\n",
        "\n",
        "\n",
        "\n"
      ]
    },
    {
      "cell_type": "code",
      "metadata": {
        "colab": {
          "base_uri": "https://localhost:8080/"
        },
        "id": "BcEEMW2T-Sa8",
        "outputId": "da9cc119-8dc3-4fb2-c6a5-a8f6187efdd1"
      },
      "source": [
        "##########################\n",
        "# Question 7             #\n",
        "##########################\n",
        "class employee():\n",
        "  \"represents employee's retirement time and income tax\"\n",
        "  tax= 0.13\n",
        "  retire_age=60\n",
        "  \n",
        "  def __init__(self, age, salary):\n",
        "    \"\"\"initialize age and salary of employee\n",
        "    @type self: employee\n",
        "    @type age: int\n",
        "    @type salary: float\n",
        "    @rtype: none\"\"\"\n",
        "    self.age= age\n",
        "    self.salary= salary\n",
        "  \n",
        "  def income_tax(self):\n",
        "    \"\"\"single parameter self taken in\n",
        "    method calculates income tax (13% of the employee salary)\n",
        "    @type self: employee\n",
        "    @rtype: float\"\"\"\n",
        "\n",
        "    self.salary= float (self.salary * employee.tax)\n",
        "    return (self .salary) \n",
        "  \n",
        "  def retire(self):\n",
        "    \"\"\"single parameter self taken in\n",
        "    method calculates yeas until retirement (at the age of 60)\n",
        "    @type self: employee\n",
        "    @rtype: int\"\"\"\n",
        "    self.age= int (employee.retire_age-self.age)\n",
        "    return (self.age)\n",
        "  \n",
        "    \n",
        "age_in= int (input(\"Enter the age of the employee: \"))\n",
        "salary_in= float (input(\"Enter the employee salary: \"))\n",
        "x=employee(age_in,salary_in)\n",
        "print(\"the employee still have  \" + str (x.retire()) + \"  years to retire\")\n",
        "print(\"the employee pays  \" + str (x.income_tax()) + \"  dollars in taxes\")"
      ],
      "execution_count": 25,
      "outputs": [
        {
          "output_type": "stream",
          "text": [
            "Enter the age of the employee: 50\n",
            "Enter the employee salary: 10000.00\n",
            "the employee still have  10  years to retire\n",
            "the employee pays  1300.0  dollars in taxes\n"
          ],
          "name": "stdout"
        }
      ]
    }
  ]
}
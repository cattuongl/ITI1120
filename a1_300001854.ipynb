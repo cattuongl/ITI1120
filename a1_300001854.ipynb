{
  "nbformat": 4,
  "nbformat_minor": 0,
  "metadata": {
    "kernelspec": {
      "display_name": "Python 3",
      "language": "python",
      "name": "python3"
    },
    "language_info": {
      "codemirror_mode": {
        "name": "ipython",
        "version": 3
      },
      "file_extension": ".py",
      "mimetype": "text/x-python",
      "name": "python",
      "nbconvert_exporter": "python",
      "pygments_lexer": "ipython3",
      "version": "3.7.4"
    },
    "colab": {
      "name": "a1_300001854.ipynb",
      "provenance": [],
      "collapsed_sections": []
    }
  },
  "cells": [
    {
      "cell_type": "markdown",
      "metadata": {
        "id": "J3sR02Wc8PYk"
      },
      "source": [
        "#<font color='Green'> Course:  ITI1120 - F Winter 2021</font>\r\n",
        "#<font color='Green'>Assignment Number: 01</font>\r\n",
        " \r\n",
        "# Due Date: <font color='red'>Sunday February 14th, 2021 11:30 PM</font>\r\n",
        "\r\n"
      ]
    },
    {
      "cell_type": "markdown",
      "metadata": {
        "id": "z47vUUPYXJ3s"
      },
      "source": [
        "<font color='red'> ----- To be filled by the student ----</font>\r\n",
        "\r\n",
        "# Family name, Given name : Le, Cattuong\r\n",
        "# Student number : 300001854\r\n"
      ]
    },
    {
      "cell_type": "code",
      "metadata": {
        "id": "RrOWls5r8PYm"
      },
      "source": [
        "import math"
      ],
      "execution_count": 58,
      "outputs": []
    },
    {
      "cell_type": "markdown",
      "metadata": {
        "id": "0UyqtyZ_a5CM"
      },
      "source": [
        "### Instructions: (Refer to assignment PDF copy for full instructions)\r\n",
        "1- Write your Name and student number in the first cell above (double click to edit).\r\n",
        "\r\n",
        "2- Make sure you provide complete and meaningful docstrings for each function you develop, docstring must include:\r\n",
        "\r\n",
        "    2.1 Type contract, \r\n",
        "    2.2 Function description, including parameter names,\r\n",
        "    2.3 Preconditions if any."
      ]
    },
    {
      "cell_type": "code",
      "metadata": {
        "id": "ZC9xfP4la-fm"
      },
      "source": [
        "#Question no. 1: \r\n",
        "#Develop and test a function that return the area enclosed by a circle of radius\r\n",
        "\r\n",
        "#r = float = Radius\r\n",
        "import math\r\n",
        "def Area(r):\r\n",
        "  \"\"\"\r\n",
        "  The function will take in a single parameter that is a float\r\n",
        "  The function will return the area of a circle\r\n",
        "  @type r: float\r\n",
        "  @rtype: none\r\n",
        "  \"\"\"\r\n",
        "  try:\r\n",
        "    r_flt=float(r)\r\n",
        "  except ValueError:\r\n",
        "    return (\"Not a real number\")\r\n",
        "  area_circle= (r_flt**2)*math.pi\r\n",
        "  print(area_circle) \r\n"
      ],
      "execution_count": 59,
      "outputs": []
    },
    {
      "cell_type": "code",
      "metadata": {
        "colab": {
          "base_uri": "https://localhost:8080/"
        },
        "id": "m7T5QNTveOj6",
        "outputId": "fd1f2398-be54-4c32-e85a-fc58f665839a"
      },
      "source": [
        "#test Question 1:  ~ 1st test command ###\r\n",
        "Area(2)"
      ],
      "execution_count": 60,
      "outputs": [
        {
          "output_type": "stream",
          "text": [
            "12.566370614359172\n"
          ],
          "name": "stdout"
        }
      ]
    },
    {
      "cell_type": "code",
      "metadata": {
        "colab": {
          "base_uri": "https://localhost:8080/"
        },
        "id": "g5gJT73YZRBV",
        "outputId": "75e4b4e0-6086-4042-e0f0-7405dd09c674"
      },
      "source": [
        "#test Question 1:  ~ 2nd test command ###\r\n",
        "Area(5)"
      ],
      "execution_count": 61,
      "outputs": [
        {
          "output_type": "stream",
          "text": [
            "78.53981633974483\n"
          ],
          "name": "stdout"
        }
      ]
    },
    {
      "cell_type": "code",
      "metadata": {
        "colab": {
          "base_uri": "https://localhost:8080/",
          "height": 35
        },
        "id": "nbwIVsXgsnPd",
        "outputId": "fce9c64c-beb9-4d08-e7cc-4a8c6f283247"
      },
      "source": [
        "#test Question 1:  ~ 3rd test command ###\n",
        "Area(\"str\")"
      ],
      "execution_count": 62,
      "outputs": [
        {
          "output_type": "execute_result",
          "data": {
            "application/vnd.google.colaboratory.intrinsic+json": {
              "type": "string"
            },
            "text/plain": [
              "'Not a real number'"
            ]
          },
          "metadata": {
            "tags": []
          },
          "execution_count": 62
        }
      ]
    },
    {
      "cell_type": "code",
      "metadata": {
        "colab": {
          "base_uri": "https://localhost:8080/"
        },
        "id": "brVjxDvbsxRo",
        "outputId": "8f5ebd75-d103-410b-e550-561f0a6c04d4"
      },
      "source": [
        "#test Question 1:  ~ 4th test command ###\n",
        "Area(4.5)"
      ],
      "execution_count": 63,
      "outputs": [
        {
          "output_type": "stream",
          "text": [
            "63.61725123519331\n"
          ],
          "name": "stdout"
        }
      ]
    },
    {
      "cell_type": "code",
      "metadata": {
        "id": "CiYRZ9A_i8DU"
      },
      "source": [
        "#Question no. 2: \r\n",
        "#Develop and test a function that return the the catch phrase MyNameIs : \r\n",
        "\r\n",
        "def MyNameIs(greeting,name,n):\r\n",
        "  \"\"\"The function includes 3 parameters (2 strings and 1 integer)\r\n",
        "  The function will multiply the catch phrase by the int inputted by the user\r\n",
        "  @type greeting: str\r\n",
        "  @type name: str\r\n",
        "  @type n: int\r\n",
        "  @rtype: none\r\n",
        "  \"\"\"\r\n",
        "  try:\r\n",
        "    name_str= str(name)\r\n",
        "    n_int= int(n)\r\n",
        "    greeting_str= str(greeting)\r\n",
        "  except ValueError:\r\n",
        "    return (\"invalid input\")\r\n",
        "  if any (num.isdigit() for num in greeting_str):\r\n",
        "    return (\"Greeting can't be a number\")\r\n",
        "  name_x= \"My Name is,\\n\" * n_int\r\n",
        "  print(greeting_str + \"\\n\" + name_x + name_str + \"\\n\")"
      ],
      "execution_count": 64,
      "outputs": []
    },
    {
      "cell_type": "code",
      "metadata": {
        "colab": {
          "base_uri": "https://localhost:8080/"
        },
        "id": "GGeAxtYoj3va",
        "outputId": "9dafc275-d39c-4a73-8846-ebc292feed9c"
      },
      "source": [
        "#test Question 2:  ~ 1st test command ###\r\n",
        "MyNameIs(\"hi\",\"Hamzah\",3)"
      ],
      "execution_count": 65,
      "outputs": [
        {
          "output_type": "stream",
          "text": [
            "hi\n",
            "My Name is,\n",
            "My Name is,\n",
            "My Name is,\n",
            "Hamzah\n",
            "\n"
          ],
          "name": "stdout"
        }
      ]
    },
    {
      "cell_type": "code",
      "metadata": {
        "colab": {
          "base_uri": "https://localhost:8080/",
          "height": 35
        },
        "id": "LShViTtWtNT-",
        "outputId": "11ad3ae2-965d-4f1c-cef0-78b7c99d3e0d"
      },
      "source": [
        "#test Question 2:  ~ 2nd test command ###\n",
        "MyNameIs(2, \"Hamzah\", 2)"
      ],
      "execution_count": 66,
      "outputs": [
        {
          "output_type": "execute_result",
          "data": {
            "application/vnd.google.colaboratory.intrinsic+json": {
              "type": "string"
            },
            "text/plain": [
              "\"Greeting can't be a number\""
            ]
          },
          "metadata": {
            "tags": []
          },
          "execution_count": 66
        }
      ]
    },
    {
      "cell_type": "code",
      "metadata": {
        "colab": {
          "base_uri": "https://localhost:8080/",
          "height": 35
        },
        "id": "87WOBc_ctUko",
        "outputId": "0c237bc3-c0e5-4535-9130-77988bdd79dd"
      },
      "source": [
        "#test Question 2:  ~ 3rd test command ###\n",
        "MyNameIs(2, \"Hamzah\", \"str\")"
      ],
      "execution_count": 67,
      "outputs": [
        {
          "output_type": "execute_result",
          "data": {
            "application/vnd.google.colaboratory.intrinsic+json": {
              "type": "string"
            },
            "text/plain": [
              "'invalid input'"
            ]
          },
          "metadata": {
            "tags": []
          },
          "execution_count": 67
        }
      ]
    },
    {
      "cell_type": "code",
      "metadata": {
        "id": "rPvZP7-imjor"
      },
      "source": [
        "#Question No.3: \r\n",
        "#Develop and test a function that Sum the digits of a given 3 digit number\r\n",
        "\r\n",
        "def Sum_Digits(n):\r\n",
        "  \"\"\"this function will take 1 parameter that is an integer\r\n",
        "  the function will sum up the 3 digits entered by the user\r\n",
        "  @type n: int\r\n",
        "  @rtype: int\r\n",
        "  precondition: input of integer must be only 3 digits long\r\n",
        "  \"\"\"\r\n",
        "  try:\r\n",
        "    n_int= int(n)\r\n",
        "  except ValueError:\r\n",
        "    return(\"Not an integer\")\r\n",
        "  digit_3= n_int%10                 #get the 3rd digit as a remainder\r\n",
        "  sum= digit_3                  #storing the 3rd digit in sum\r\n",
        "  digit_2to1= n//10             #get the 2 first digits\r\n",
        "  digit_2=digit_2to1 % 10       #get the 2nd digit as a remainder\r\n",
        "  sum_2= sum + digit_2          #adding the 2nd digit to the stored 3rd digit and storing it\r\n",
        "  digit_1= digit_2to1 // 10     #get the 1st digit \r\n",
        "  sum_3= sum_2 + digit_1        #adding 1st digit to the sum of the 2nd and 3rd digit\r\n",
        "  return (sum_3)             "
      ],
      "execution_count": 68,
      "outputs": []
    },
    {
      "cell_type": "code",
      "metadata": {
        "colab": {
          "base_uri": "https://localhost:8080/"
        },
        "id": "7EyzTj72skf4",
        "outputId": "6cd89f41-371c-41ef-d3a5-85404456186e"
      },
      "source": [
        "#test Question 3:  ~ 1st test command ###\r\n",
        "Sum_Digits(123)"
      ],
      "execution_count": 69,
      "outputs": [
        {
          "output_type": "execute_result",
          "data": {
            "text/plain": [
              "6"
            ]
          },
          "metadata": {
            "tags": []
          },
          "execution_count": 69
        }
      ]
    },
    {
      "cell_type": "code",
      "metadata": {
        "colab": {
          "base_uri": "https://localhost:8080/"
        },
        "id": "dcPxcbjVZ3le",
        "outputId": "b1f8775b-79db-4379-c7cd-fe3be7f9d4c9"
      },
      "source": [
        "#test Question 3:  ~ 2nd test command ###\r\n",
        "Sum_Digits(908)"
      ],
      "execution_count": 70,
      "outputs": [
        {
          "output_type": "execute_result",
          "data": {
            "text/plain": [
              "17"
            ]
          },
          "metadata": {
            "tags": []
          },
          "execution_count": 70
        }
      ]
    },
    {
      "cell_type": "code",
      "metadata": {
        "colab": {
          "base_uri": "https://localhost:8080/",
          "height": 35
        },
        "id": "SMGlvV_uwD1O",
        "outputId": "9cb689f7-52ac-4878-f370-30f4274ebd50"
      },
      "source": [
        "#test Question 3:  ~ 3rd test command ###\n",
        "Sum_Digits('yes')"
      ],
      "execution_count": 71,
      "outputs": [
        {
          "output_type": "execute_result",
          "data": {
            "application/vnd.google.colaboratory.intrinsic+json": {
              "type": "string"
            },
            "text/plain": [
              "'Not an integer'"
            ]
          },
          "metadata": {
            "tags": []
          },
          "execution_count": 71
        }
      ]
    },
    {
      "cell_type": "code",
      "metadata": {
        "id": "vCziSJPwskmC"
      },
      "source": [
        "#Question No.4: \r\n",
        "#Develop and test a function that Calculate and print (each in newline) midpoint and Length (Distance) of line segment passing through two points (x1,y1) and (x2,y2)\r\n",
        "import math\r\n",
        "def MidPoint(x1, y1, x2, y2):\r\n",
        "  \"\"\"function takes in 4 parameters from user that are floats\r\n",
        "  function will find the midpoint of the 2 coordinates\r\n",
        "  function will calculate distance between 2 points and round to 2 decimal places\r\n",
        "  @type x1: float\r\n",
        "  @type y1: float\r\n",
        "  @type x2: float\r\n",
        "  @type y2: float\r\n",
        "  @rtype: str\r\n",
        "  \"\"\"\r\n",
        "  try:\r\n",
        "    x1_flt= float(x1)\r\n",
        "    y1_flt= float(y1)\r\n",
        "    x2_flt= float(x2)\r\n",
        "    y2_flt= float(y2)\r\n",
        "  except ValueError:\r\n",
        "    return (\"Not a valid coordinate\")\r\n",
        "  midx= (x1_flt + x2_flt)/2\r\n",
        "  midy= (y1_flt + y2_flt)/2\r\n",
        "\r\n",
        "  length= math.sqrt((x2_flt-x1_flt)**2 +(y2_flt-y1_flt)**2)\r\n",
        "  length_2dec= round(length,2)\r\n",
        "  midx_str=str(midx)\r\n",
        "  midy_str=str(midy)\r\n",
        "  length_str=str(length_2dec)\r\n",
        "  \r\n",
        "  print(\"Midpoint= (\" + midx_str + \",\" + midy_str + \")\\nDistance= \" + length_str)"
      ],
      "execution_count": 72,
      "outputs": []
    },
    {
      "cell_type": "code",
      "metadata": {
        "colab": {
          "base_uri": "https://localhost:8080/"
        },
        "id": "uefCErCSteZj",
        "outputId": "5c43eb89-f057-4072-8af5-2f9adfcd562e"
      },
      "source": [
        "#test Question 4:  ~ 1st test command ###\r\n",
        "MidPoint(2,4,6,8)"
      ],
      "execution_count": 73,
      "outputs": [
        {
          "output_type": "stream",
          "text": [
            "Midpoint= (4.0,6.0)\n",
            "Distance= 5.66\n"
          ],
          "name": "stdout"
        }
      ]
    },
    {
      "cell_type": "code",
      "metadata": {
        "colab": {
          "base_uri": "https://localhost:8080/",
          "height": 35
        },
        "id": "WSJSsqaSwMyX",
        "outputId": "4763e3dd-2324-4dea-f83a-029c58a06dfb"
      },
      "source": [
        "#test Question 4:  ~ 2nd test command ###\n",
        "MidPoint(2,\"yes\",6,8)"
      ],
      "execution_count": 74,
      "outputs": [
        {
          "output_type": "execute_result",
          "data": {
            "application/vnd.google.colaboratory.intrinsic+json": {
              "type": "string"
            },
            "text/plain": [
              "'Not a valid coordinate'"
            ]
          },
          "metadata": {
            "tags": []
          },
          "execution_count": 74
        }
      ]
    },
    {
      "cell_type": "code",
      "metadata": {
        "id": "LbEfKgmOzV8k"
      },
      "source": [
        "# Question 5.1:\n",
        "#Develop and test a function that return if the input argument (x, y, z; either integer or string) are sorted in ascending (True) or not (False)\n",
        "\n",
        "def ascending(x, y, z) :\n",
        "  \"\"\"function will take 3 parameters \n",
        "  Function will check if the inputed parameters are ascending\n",
        "  @type x: int\n",
        "  @type y: int\n",
        "  @type z: int\n",
        "  @rtype: bool\n",
        "  \"\"\"\n",
        "  if (x<y and y<z):\n",
        "    return True\n",
        "  else:\n",
        "    return False\n",
        "\n",
        "# Question 5.2:\n",
        "#Develop and test a function that return if the input argument (x, y, z; either integer or string) are sorted in descending (True) or not (False)\n",
        "\n",
        "def descending(x, y, z) :\n",
        "  \"\"\"function will take 3 \n",
        "  Function will check if the inputed parameters are ascending\n",
        "  @type x: str\n",
        "  @type y: str\n",
        "  @type z: str\n",
        "  @rtype: none\n",
        "  \"\"\"\n",
        "\n",
        "  if (x>=y and y>=z):\n",
        "    return True\n",
        "  else:\n",
        "    return False\n",
        "\n",
        "# Question 5.1: \n",
        "#Develop and test a function that return if the input argument (x, y, z; either integer or string) are equal (True) or not (False)\n",
        "\n",
        "def duplicates(x, y, z) :\n",
        "  \"\"\"function will take 3 parameters\n",
        "  function will see if the 3 parameters are equal\n",
        "  (x,y,z)--> none\n",
        "  \"\"\"\n",
        "  if (x==y and y==x):\n",
        "    return True\n",
        "  else:\n",
        "    return False   \n"
      ],
      "execution_count": 75,
      "outputs": []
    },
    {
      "cell_type": "code",
      "metadata": {
        "colab": {
          "base_uri": "https://localhost:8080/"
        },
        "id": "D24EILx70McX",
        "outputId": "50a28532-b439-41b7-ed11-4b13b1095c75"
      },
      "source": [
        "#test Question 5:  ~ 1st test command ###\r\n",
        "ascending(1,2,3)"
      ],
      "execution_count": 76,
      "outputs": [
        {
          "output_type": "execute_result",
          "data": {
            "text/plain": [
              "True"
            ]
          },
          "metadata": {
            "tags": []
          },
          "execution_count": 76
        }
      ]
    },
    {
      "cell_type": "code",
      "metadata": {
        "colab": {
          "base_uri": "https://localhost:8080/"
        },
        "id": "hYdLbYkL0SgQ",
        "outputId": "1ebe8b47-bcb7-472f-cda5-b365c57845d8"
      },
      "source": [
        "#test Question 5:  ~ 2nd test command ###\r\n",
        "descending(1,2,3)"
      ],
      "execution_count": 77,
      "outputs": [
        {
          "output_type": "execute_result",
          "data": {
            "text/plain": [
              "False"
            ]
          },
          "metadata": {
            "tags": []
          },
          "execution_count": 77
        }
      ]
    },
    {
      "cell_type": "code",
      "metadata": {
        "colab": {
          "base_uri": "https://localhost:8080/"
        },
        "id": "3O0WVP_C0YU4",
        "outputId": "89144fa2-8a44-441c-d670-8a8544536c9f"
      },
      "source": [
        "#test Question 5:  ~ 3rd test command ###\r\n",
        "duplicates(\"yes\",\"yes\",\"yes\")"
      ],
      "execution_count": 78,
      "outputs": [
        {
          "output_type": "execute_result",
          "data": {
            "text/plain": [
              "True"
            ]
          },
          "metadata": {
            "tags": []
          },
          "execution_count": 78
        }
      ]
    },
    {
      "cell_type": "code",
      "metadata": {
        "colab": {
          "base_uri": "https://localhost:8080/"
        },
        "id": "O7ij79ukwgKv",
        "outputId": "ff646627-21bd-45a2-b47c-9029807225d5"
      },
      "source": [
        "#test Question 5:  ~ 4th test command ###\n",
        "descending(\"yes\", \"yes\", \"yes\")"
      ],
      "execution_count": 79,
      "outputs": [
        {
          "output_type": "execute_result",
          "data": {
            "text/plain": [
              "True"
            ]
          },
          "metadata": {
            "tags": []
          },
          "execution_count": 79
        }
      ]
    },
    {
      "cell_type": "code",
      "metadata": {
        "colab": {
          "base_uri": "https://localhost:8080/"
        },
        "id": "N1PWbKipw1G6",
        "outputId": "5a60d9c3-293a-489b-f746-3fd4731b9dab"
      },
      "source": [
        "#test Question 5:  ~ 5th test command ###\n",
        "ascending(1234,234,34)"
      ],
      "execution_count": 80,
      "outputs": [
        {
          "output_type": "execute_result",
          "data": {
            "text/plain": [
              "False"
            ]
          },
          "metadata": {
            "tags": []
          },
          "execution_count": 80
        }
      ]
    },
    {
      "cell_type": "code",
      "metadata": {
        "id": "RhErDUlD0gsB"
      },
      "source": [
        "#Question no.6: \r\n",
        "#Develop and test a function that will return true if the two given integer values are equal or their sum or difference is 4.\r\n",
        "\r\n",
        "def maythe4th(x, y):\r\n",
        "  \"\"\"function takes 2 parameters from user that are integers\r\n",
        "  function will calculate sum and diff\r\n",
        "  function will see if the 2 integers equal each other or have a sum of 4 or have a difference of 4\r\n",
        "  @type x: int\r\n",
        "  @type y: int\r\n",
        "  @rtype: bool\r\n",
        "  \"\"\"\r\n",
        "  try:\r\n",
        "    x_int=int(x)\r\n",
        "    y_int=int(y)\r\n",
        "  except ValueError:\r\n",
        "    return (\"Value is not an integer. Please enter an integer\")\r\n",
        "  sum=x_int + y_int\r\n",
        "  diff=abs(y_int - x_int)\r\n",
        "  if (x_int==y_int or sum==4 or diff==4):\r\n",
        "    return True\r\n",
        "  else:\r\n",
        "    return False"
      ],
      "execution_count": 81,
      "outputs": []
    },
    {
      "cell_type": "code",
      "metadata": {
        "colab": {
          "base_uri": "https://localhost:8080/"
        },
        "id": "ADA4l8Dp4Iie",
        "outputId": "d2a67df5-6464-4c79-9e5c-b980aeed9693"
      },
      "source": [
        "#test Question 6:  ~ 1st test command ###\r\n",
        "maythe4th(8,4)"
      ],
      "execution_count": 82,
      "outputs": [
        {
          "output_type": "execute_result",
          "data": {
            "text/plain": [
              "True"
            ]
          },
          "metadata": {
            "tags": []
          },
          "execution_count": 82
        }
      ]
    },
    {
      "cell_type": "code",
      "metadata": {
        "colab": {
          "base_uri": "https://localhost:8080/"
        },
        "id": "LTH4hQ4nbI0y",
        "outputId": "191aa060-4ce5-4345-ba56-dba1f835c32b"
      },
      "source": [
        "#test Question 6:  ~ 2nd test command ###\r\n",
        "maythe4th(4,4)"
      ],
      "execution_count": 83,
      "outputs": [
        {
          "output_type": "execute_result",
          "data": {
            "text/plain": [
              "True"
            ]
          },
          "metadata": {
            "tags": []
          },
          "execution_count": 83
        }
      ]
    },
    {
      "cell_type": "code",
      "metadata": {
        "colab": {
          "base_uri": "https://localhost:8080/"
        },
        "id": "SBq2ytqlbI--",
        "outputId": "0ad99e1b-a456-4842-c1a9-ab423c6aaa93"
      },
      "source": [
        "#test Question 6:  ~ 3rd test command ###\r\n",
        "maythe4th(2,2)"
      ],
      "execution_count": 84,
      "outputs": [
        {
          "output_type": "execute_result",
          "data": {
            "text/plain": [
              "True"
            ]
          },
          "metadata": {
            "tags": []
          },
          "execution_count": 84
        }
      ]
    },
    {
      "cell_type": "code",
      "metadata": {
        "colab": {
          "base_uri": "https://localhost:8080/"
        },
        "id": "0AHW9PrbbXw1",
        "outputId": "058c80a8-2344-415e-e44d-f65595758245"
      },
      "source": [
        "#test Question 6:  ~ 4th test command ###\r\n",
        "maythe4th(3,2)"
      ],
      "execution_count": 85,
      "outputs": [
        {
          "output_type": "execute_result",
          "data": {
            "text/plain": [
              "False"
            ]
          },
          "metadata": {
            "tags": []
          },
          "execution_count": 85
        }
      ]
    },
    {
      "cell_type": "code",
      "metadata": {
        "colab": {
          "base_uri": "https://localhost:8080/"
        },
        "id": "2ol0abUQy3gY",
        "outputId": "e748599a-6f0d-43b5-a8a5-40401ffa7538"
      },
      "source": [
        "#test Question 6:  ~ 5th test command ###\n",
        "maythe4th(16,4)"
      ],
      "execution_count": 86,
      "outputs": [
        {
          "output_type": "execute_result",
          "data": {
            "text/plain": [
              "False"
            ]
          },
          "metadata": {
            "tags": []
          },
          "execution_count": 86
        }
      ]
    },
    {
      "cell_type": "code",
      "metadata": {
        "colab": {
          "base_uri": "https://localhost:8080/",
          "height": 35
        },
        "id": "it-aV5CYzAPW",
        "outputId": "63dee283-4963-4bb7-b19d-f9882ea9d81d"
      },
      "source": [
        "#test Question 6:  ~ 6th test command ###\n",
        "maythe4th(\"yes\",4)"
      ],
      "execution_count": 87,
      "outputs": [
        {
          "output_type": "execute_result",
          "data": {
            "application/vnd.google.colaboratory.intrinsic+json": {
              "type": "string"
            },
            "text/plain": [
              "'Value is not an integer. Please enter an integer'"
            ]
          },
          "metadata": {
            "tags": []
          },
          "execution_count": 87
        }
      ]
    },
    {
      "cell_type": "code",
      "metadata": {
        "id": "V3Mfxrs57c0t"
      },
      "source": [
        "#Question no.7: \r\n",
        "#Write a Python program to convert month name to a number of days.\r\n",
        "\r\n",
        "def daysOfMonth():\r\n",
        "  \"\"\"Function will take in one parameter that is one of the months listed in the printed text\r\n",
        "  function will check if it is equal to one of the strings and will output date of that month, if not returns not a month\r\n",
        "  @type: str\r\n",
        "  @rtype: none\r\n",
        "  \"\"\"\r\n",
        "  \r\n",
        "  print(\"List of months: January, February, March, April, May, June, July, August, September, October, November, December\")\r\n",
        "  month=str(input(\"Input the name of Month: \")).lower()\r\n",
        " \r\n",
        "\r\n",
        "  if month== 'january':\r\n",
        "    print(\"No. of days: 31 days\")\r\n",
        "  elif month== 'february':\r\n",
        "    print(\"No. of days: 28 days but leap year 29 days\")\r\n",
        "  elif month== 'march':\r\n",
        "    print(\"No. of days: 31 days\")\r\n",
        "  elif month== 'april':\r\n",
        "    print(\"No. of days: 30 days\")\r\n",
        "  elif month== 'may':\r\n",
        "    print(\"No. of days: 31 days\")\r\n",
        "  elif month== 'june':\r\n",
        "    print(\"No. of days: 30 days\")\r\n",
        "  elif month== 'july':\r\n",
        "    print(\"No. of days: 31 days\")\r\n",
        "  elif month== 'august':\r\n",
        "    print(\"No. of days: 31 days\")\r\n",
        "  elif month== 'september':\r\n",
        "    print(\"No. of days: 30 days\")\r\n",
        "  elif month== 'october':\r\n",
        "    print(\"No. of days: 31 days\")\r\n",
        "  elif month== 'november':\r\n",
        "    print(\"No. of days: 30 days\")\r\n",
        "  elif month== 'december':\r\n",
        "    print(\"No. of days: 31 days\")\r\n",
        "  else:\r\n",
        "    print(\"Not a month\")"
      ],
      "execution_count": 88,
      "outputs": []
    },
    {
      "cell_type": "code",
      "metadata": {
        "colab": {
          "base_uri": "https://localhost:8080/"
        },
        "id": "WwvTbqVw76n1",
        "outputId": "829332fd-a43b-43af-f1f2-e0782e7c55fa"
      },
      "source": [
        "#test Question 7:  ~ 1st test command ###\r\n",
        "daysOfMonth()"
      ],
      "execution_count": 89,
      "outputs": [
        {
          "output_type": "stream",
          "text": [
            "List of months: January, February, March, April, May, June, July, August, September, October, November, December\n",
            "Input the name of Month: April\n",
            "No. of days: 30 days\n"
          ],
          "name": "stdout"
        }
      ]
    },
    {
      "cell_type": "code",
      "metadata": {
        "id": "mr9wbMrx9eEJ"
      },
      "source": [
        "# Question 8: \r\n",
        "#Develop and test a function that return if the input argument (String) is  coordinates of a point ?  (True) or not (False)?\r\n",
        "\r\n",
        "def coordinates(s):\r\n",
        "  \"\"\"Function takes in a single parameter that is a string \r\n",
        "  Function will check if there is at least one comma, no more than 2 decimals in the 2 coordinates given and checks if there is at least 2 signed digits\r\n",
        "  @type s: str\r\n",
        "  @rtype: bool\r\n",
        "  \"\"\"\r\n",
        "  count0=0\r\n",
        "  count1=0\r\n",
        "  comma_split= s.split(\",\")\r\n",
        "  list_coord_comma= len(comma_split)\r\n",
        "  if list_coord_comma ==2:\r\n",
        "    try:\r\n",
        "      coord1flt=float(comma_split[0])\r\n",
        "      coord2flt=float(comma_split[1])\r\n",
        "    except ValueError:\r\n",
        "      return False\r\n",
        "    for i in comma_split[0]:\r\n",
        "      if i == '.':\r\n",
        "        count0= count0 +1\r\n",
        "    for j in comma_split[1]:\r\n",
        "      if j == '.':\r\n",
        "        count1= count1 +1\r\n",
        "    if count0 <= 1 and count1 <= 1:\r\n",
        "      coord1=comma_split[0].replace('.', '')\r\n",
        "      coord2=comma_split[1].replace('.', '')\r\n",
        "      if len(coord1+coord2) >= 2:\r\n",
        "        return True\r\n",
        "      else:\r\n",
        "        return False\r\n",
        "    else:\r\n",
        "      return False\r\n",
        "  else:\r\n",
        "    return False   "
      ],
      "execution_count": 90,
      "outputs": []
    },
    {
      "cell_type": "code",
      "metadata": {
        "colab": {
          "base_uri": "https://localhost:8080/"
        },
        "id": "cmbHZYhLAx2h",
        "outputId": "77185ca4-cdc6-477c-f409-2753cb92e8f5"
      },
      "source": [
        "#test Question 8:  ~ 1st test command ###\r\n",
        "coordinates(\"12.333333,35.33432332\")"
      ],
      "execution_count": 91,
      "outputs": [
        {
          "output_type": "execute_result",
          "data": {
            "text/plain": [
              "True"
            ]
          },
          "metadata": {
            "tags": []
          },
          "execution_count": 91
        }
      ]
    },
    {
      "cell_type": "code",
      "metadata": {
        "colab": {
          "base_uri": "https://localhost:8080/"
        },
        "id": "75pwzX0SA5Ik",
        "outputId": "2f0d0a05-7844-472a-d1b3-a23fc2081e6a"
      },
      "source": [
        "#test Question 8:  ~ 2nd test command ###\r\n",
        "coordinates(\"35.33432332\")"
      ],
      "execution_count": 92,
      "outputs": [
        {
          "output_type": "execute_result",
          "data": {
            "text/plain": [
              "False"
            ]
          },
          "metadata": {
            "tags": []
          },
          "execution_count": 92
        }
      ]
    },
    {
      "cell_type": "code",
      "metadata": {
        "colab": {
          "base_uri": "https://localhost:8080/"
        },
        "id": "Dzo38P22BEdx",
        "outputId": "7f72f585-9db7-4a0f-d679-331f544b4d5d"
      },
      "source": [
        "#test Question 8:  ~ 3rd test command ###\r\n",
        "coordinates(\"Hello there\")"
      ],
      "execution_count": 93,
      "outputs": [
        {
          "output_type": "execute_result",
          "data": {
            "text/plain": [
              "False"
            ]
          },
          "metadata": {
            "tags": []
          },
          "execution_count": 93
        }
      ]
    },
    {
      "cell_type": "code",
      "metadata": {
        "colab": {
          "base_uri": "https://localhost:8080/"
        },
        "id": "Nxs2VfinBI7x",
        "outputId": "39714de7-73f6-4955-97d3-0dae1b971aa6"
      },
      "source": [
        "#test Question 8:  ~ 4th test command ###\r\n",
        "coordinates(\"-34.3 22.4\")"
      ],
      "execution_count": 94,
      "outputs": [
        {
          "output_type": "execute_result",
          "data": {
            "text/plain": [
              "False"
            ]
          },
          "metadata": {
            "tags": []
          },
          "execution_count": 94
        }
      ]
    },
    {
      "cell_type": "code",
      "metadata": {
        "colab": {
          "base_uri": "https://localhost:8080/"
        },
        "id": "6pteUOAMzWNc",
        "outputId": "b874a5f7-7423-44ce-e835-7ef4384f041a"
      },
      "source": [
        "#test Question 8:  ~ 5th test command ###\n",
        "coordinates(\"45.67,-13.33432\")"
      ],
      "execution_count": 95,
      "outputs": [
        {
          "output_type": "execute_result",
          "data": {
            "text/plain": [
              "True"
            ]
          },
          "metadata": {
            "tags": []
          },
          "execution_count": 95
        }
      ]
    },
    {
      "cell_type": "code",
      "metadata": {
        "colab": {
          "base_uri": "https://localhost:8080/"
        },
        "id": "k4um2kBKzlYI",
        "outputId": "813958fa-675d-4bf7-cfcf-b946bd4632f5"
      },
      "source": [
        "#test Question 8:  ~ 6th test command ###\n",
        "coordinates(\"-37,24\")"
      ],
      "execution_count": 96,
      "outputs": [
        {
          "output_type": "execute_result",
          "data": {
            "text/plain": [
              "True"
            ]
          },
          "metadata": {
            "tags": []
          },
          "execution_count": 96
        }
      ]
    },
    {
      "cell_type": "code",
      "metadata": {
        "colab": {
          "base_uri": "https://localhost:8080/"
        },
        "id": "izgqFynkzxrY",
        "outputId": "0e1e1ea7-a282-4d51-9955-53548b845c38"
      },
      "source": [
        "#test Question 8:  ~ 7th test command ###\n",
        "coordinates(\"-1.3,4.-6\")"
      ],
      "execution_count": 97,
      "outputs": [
        {
          "output_type": "execute_result",
          "data": {
            "text/plain": [
              "False"
            ]
          },
          "metadata": {
            "tags": []
          },
          "execution_count": 97
        }
      ]
    },
    {
      "cell_type": "code",
      "metadata": {
        "colab": {
          "base_uri": "https://localhost:8080/"
        },
        "id": "TfCfQoPd0BUE",
        "outputId": "5dc73644-1a43-4c11-ad15-b73cca68ca59"
      },
      "source": [
        "#test Question 8:  ~ 8th test command ###\n",
        "coordinates(\",4\")"
      ],
      "execution_count": 98,
      "outputs": [
        {
          "output_type": "execute_result",
          "data": {
            "text/plain": [
              "False"
            ]
          },
          "metadata": {
            "tags": []
          },
          "execution_count": 98
        }
      ]
    },
    {
      "cell_type": "code",
      "metadata": {
        "id": "xK08NMvnBNvy"
      },
      "source": [
        "#Question no. 9: \r\n",
        "#Develop and test a function that return how many bits a given number (n) needs to be represented in binary \r\n",
        "import math\r\n",
        "def NumberOfBits(n):\r\n",
        "  \"\"\"function takes in a single paramater that is an integer\r\n",
        "  function will calculate the amount of bits that n needs to be represented in binary\r\n",
        "  precondition: n >= 1\r\n",
        "  @type n: int\r\n",
        "  @rtype: int\r\n",
        "  \"\"\"\r\n",
        "  try:\r\n",
        "    n_int=int(n)\r\n",
        "  except ValueError:\r\n",
        "    return (\"Value is not an number. Please enter a whole number\")\r\n",
        "  base_10= math.log(n_int)\r\n",
        "  base_2= base_10/(math.log(2)) #int_bit gets the number where it is log base 2\r\n",
        "  bits_num= base_2 + 1 #number of int_bits that is from log base 2 will be added by one\r\n",
        "  bits_num_int=int(bits_num) #only want to take the integer and have not rounding \r\n",
        "  return (bits_num_int)  "
      ],
      "execution_count": 99,
      "outputs": []
    },
    {
      "cell_type": "code",
      "metadata": {
        "colab": {
          "base_uri": "https://localhost:8080/"
        },
        "id": "H6UkiorGIXFu",
        "outputId": "d50be0c3-6a6b-4d01-8801-d795d81a686e"
      },
      "source": [
        "#test Question 9:  ~ 1st test command ###\r\n",
        "NumberOfBits(15)"
      ],
      "execution_count": 100,
      "outputs": [
        {
          "output_type": "execute_result",
          "data": {
            "text/plain": [
              "4"
            ]
          },
          "metadata": {
            "tags": []
          },
          "execution_count": 100
        }
      ]
    },
    {
      "cell_type": "code",
      "metadata": {
        "colab": {
          "base_uri": "https://localhost:8080/"
        },
        "id": "yHCyz46s0L5g",
        "outputId": "b39be476-ee55-429b-ce43-62b9e48c147e"
      },
      "source": [
        "#test Question 9:  ~ 2nd test command ###\n",
        "NumberOfBits(4)"
      ],
      "execution_count": 101,
      "outputs": [
        {
          "output_type": "execute_result",
          "data": {
            "text/plain": [
              "3"
            ]
          },
          "metadata": {
            "tags": []
          },
          "execution_count": 101
        }
      ]
    },
    {
      "cell_type": "code",
      "metadata": {
        "colab": {
          "base_uri": "https://localhost:8080/",
          "height": 35
        },
        "id": "vtgH7BCT0RFL",
        "outputId": "549d9780-13c1-4158-8ba0-407f378bda86"
      },
      "source": [
        "#test Question 9:  ~ 3rd test command ###\n",
        "NumberOfBits(\"str\")"
      ],
      "execution_count": 102,
      "outputs": [
        {
          "output_type": "execute_result",
          "data": {
            "application/vnd.google.colaboratory.intrinsic+json": {
              "type": "string"
            },
            "text/plain": [
              "'Value is not an number. Please enter a whole number'"
            ]
          },
          "metadata": {
            "tags": []
          },
          "execution_count": 102
        }
      ]
    },
    {
      "cell_type": "code",
      "metadata": {
        "id": "1xjTo9x-IbMJ"
      },
      "source": [
        "#Question no. 10 given:  \r\n",
        "# Develop and test a fucntion that takes the two-player game and detemermine the elemental vulnerability \r\n",
        "\r\n",
        "def vulnerability(play1, play2):\r\n",
        "    \"\"\"This function takes in 2 parameters that are strings\r\n",
        "    There function will either recognize the inputs as water, grass, or fire\r\n",
        "    Function will determine and return the vulnerability correlation\r\n",
        "    @type play1: str\r\n",
        "    @type play2: str\r\n",
        "    @rtype: str\r\n",
        "    precondition: elements have to be in lower-case\r\n",
        "    \"\"\"\r\n",
        "    if play1 == play2: \r\n",
        "        return \"no weakness is found\"\r\n",
        "    if (play1 == 'fire' and play2 == 'grass') or (play1 == 'grass' and play2 == 'water') or (play1 == 'water' and play2 == 'fire'):\r\n",
        "        return \"Player 2 is vulerable to Player 1 \"\r\n",
        "    else:\r\n",
        "        return \"Player 1 is vulnerable to player 2\""
      ],
      "execution_count": 103,
      "outputs": []
    },
    {
      "cell_type": "code",
      "metadata": {
        "colab": {
          "base_uri": "https://localhost:8080/",
          "height": 35
        },
        "id": "MS86RDIaOnq4",
        "outputId": "469feb28-9d1d-46c4-81a4-b13639ff73fa"
      },
      "source": [
        "#test Question 10:  ~ 1st test command ###\r\n",
        "vulnerability(\"fire\", \"fire\")"
      ],
      "execution_count": 104,
      "outputs": [
        {
          "output_type": "execute_result",
          "data": {
            "application/vnd.google.colaboratory.intrinsic+json": {
              "type": "string"
            },
            "text/plain": [
              "'no weakness is found'"
            ]
          },
          "metadata": {
            "tags": []
          },
          "execution_count": 104
        }
      ]
    },
    {
      "cell_type": "code",
      "metadata": {
        "id": "S8xQBMm4Otis",
        "colab": {
          "base_uri": "https://localhost:8080/",
          "height": 35
        },
        "outputId": "9c2978e1-d12e-4e1d-fc32-4554108246d9"
      },
      "source": [
        "#test Question 10:  ~ 2nd test command ###\r\n",
        "vulnerability(\"fire\", \"grass\")"
      ],
      "execution_count": 105,
      "outputs": [
        {
          "output_type": "execute_result",
          "data": {
            "application/vnd.google.colaboratory.intrinsic+json": {
              "type": "string"
            },
            "text/plain": [
              "'Player 2 is vulerable to Player 1 '"
            ]
          },
          "metadata": {
            "tags": []
          },
          "execution_count": 105
        }
      ]
    },
    {
      "cell_type": "code",
      "metadata": {
        "colab": {
          "base_uri": "https://localhost:8080/",
          "height": 35
        },
        "id": "xXbjKk3kc8GI",
        "outputId": "bd9754a3-34ae-4d24-ab59-f4283e80da27"
      },
      "source": [
        "#test Question 10:  ~ 3nd test command ###\r\n",
        "vulnerability(\"water\", \"grass\")"
      ],
      "execution_count": 106,
      "outputs": [
        {
          "output_type": "execute_result",
          "data": {
            "application/vnd.google.colaboratory.intrinsic+json": {
              "type": "string"
            },
            "text/plain": [
              "'Player 1 is vulnerable to player 2'"
            ]
          },
          "metadata": {
            "tags": []
          },
          "execution_count": 106
        }
      ]
    },
    {
      "cell_type": "code",
      "metadata": {
        "colab": {
          "base_uri": "https://localhost:8080/",
          "height": 35
        },
        "id": "S0DOlTNrAMyq",
        "outputId": "9d467b1a-61ba-4e3c-c012-399fd3e55a2c"
      },
      "source": [
        "#test Question 10:  ~ 6th test command ###\n",
        "vulnerability(\"grass\",\"fire\")"
      ],
      "execution_count": 107,
      "outputs": [
        {
          "output_type": "execute_result",
          "data": {
            "application/vnd.google.colaboratory.intrinsic+json": {
              "type": "string"
            },
            "text/plain": [
              "'Player 1 is vulnerable to player 2'"
            ]
          },
          "metadata": {
            "tags": []
          },
          "execution_count": 107
        }
      ]
    },
    {
      "cell_type": "code",
      "metadata": {
        "id": "ghJw_CJB0jNM"
      },
      "source": [
        "#Question no. 10 (but my own version):  \n",
        "def vulnerability2_0(play1, play2):\n",
        "  \"\"\"This function takes in 2 parameters that are strings\n",
        "  There function will either recognize the inputs as water, grass, or fire\n",
        "  Function will determine and return the vulnerability correlation\n",
        "  @type play1: str\n",
        "  @type play2: str\n",
        "  @rtype: none\n",
        "  \"\"\"\n",
        "  play1=str(play1)\n",
        "  play2=str(play2)\n",
        "  elements= {0:'fire', 1:'water', 2:'grass'}\n",
        "  elements_score = [[-1, 1, 0], [1, -1, 2], [0, 2, -1]]\n",
        "  if any (num.isdigit() for num in play1 or play2):\n",
        "      return (\"no numbers\")\n",
        "  elif play1.lower() == \"fire\":\n",
        "      play1_element = 0\n",
        "  elif play1.lower() == \"water\":\n",
        "      play1_element = 1    \n",
        "  elif play1.lower() == \"grass\":\n",
        "      play1_element = 2\n",
        "  else:\n",
        "      print(\"Not valid element\")\n",
        "  \n",
        "  if play2.lower() == \"fire\":\n",
        "      play2_element = 0\n",
        "  elif play2.lower() == \"water\":\n",
        "      play2_element = 1    \n",
        "  elif play2.lower() == \"grass\":\n",
        "      play2_element = 2\n",
        "  else:\n",
        "      print(\"Not valid element\")\n",
        "  \n",
        "  weakness= elements_score[play1_element][play2_element]\n",
        "  if weakness == play1_element:\n",
        "    print (\"Player 2 is vulnerable to Player 1\")\n",
        "  elif weakness == play2_element:\n",
        "    print (\"Player 1 is vulnerable to Player 2\")\n",
        "  else:\n",
        "    print(\"no weakness found\")"
      ],
      "execution_count": 108,
      "outputs": []
    },
    {
      "cell_type": "code",
      "metadata": {
        "colab": {
          "base_uri": "https://localhost:8080/"
        },
        "id": "pezVdJJl07yM",
        "outputId": "08411452-bb77-4cec-fe34-0dda1fd57569"
      },
      "source": [
        "vulnerability2_0(\"fire\", \"fire\")"
      ],
      "execution_count": 109,
      "outputs": [
        {
          "output_type": "stream",
          "text": [
            "no weakness found\n"
          ],
          "name": "stdout"
        }
      ]
    },
    {
      "cell_type": "code",
      "metadata": {
        "colab": {
          "base_uri": "https://localhost:8080/"
        },
        "id": "2p4CdW2H1Cqy",
        "outputId": "715bb536-fbb7-4e0b-8074-0d41cc860cfd"
      },
      "source": [
        "vulnerability2_0(\"fire\", \"grass\")"
      ],
      "execution_count": 110,
      "outputs": [
        {
          "output_type": "stream",
          "text": [
            "Player 2 is vulnerable to Player 1\n"
          ],
          "name": "stdout"
        }
      ]
    },
    {
      "cell_type": "code",
      "metadata": {
        "colab": {
          "base_uri": "https://localhost:8080/"
        },
        "id": "0UNGBdvI1IKw",
        "outputId": "3d97cdf1-45fb-4cab-a9a1-97c9a34b69ae"
      },
      "source": [
        "vulnerability2_0(\"water\", \"grass\")"
      ],
      "execution_count": 111,
      "outputs": [
        {
          "output_type": "stream",
          "text": [
            "Player 1 is vulnerable to Player 2\n"
          ],
          "name": "stdout"
        }
      ]
    },
    {
      "cell_type": "code",
      "metadata": {
        "colab": {
          "base_uri": "https://localhost:8080/",
          "height": 35
        },
        "id": "e4tGIuin1JK2",
        "outputId": "474f2c74-b9fc-4707-f7a6-211061321ba6"
      },
      "source": [
        "vulnerability2_0(3,\"fire\")"
      ],
      "execution_count": 112,
      "outputs": [
        {
          "output_type": "execute_result",
          "data": {
            "application/vnd.google.colaboratory.intrinsic+json": {
              "type": "string"
            },
            "text/plain": [
              "'no numbers'"
            ]
          },
          "metadata": {
            "tags": []
          },
          "execution_count": 112
        }
      ]
    },
    {
      "cell_type": "code",
      "metadata": {
        "colab": {
          "base_uri": "https://localhost:8080/"
        },
        "id": "VPuryTqw1LJc",
        "outputId": "d7702c02-b30f-43b3-8a3c-383b30813fea"
      },
      "source": [
        "vulnerability2_0(\"FiRE\",\"fire\")"
      ],
      "execution_count": 113,
      "outputs": [
        {
          "output_type": "stream",
          "text": [
            "no weakness found\n"
          ],
          "name": "stdout"
        }
      ]
    },
    {
      "cell_type": "code",
      "metadata": {
        "colab": {
          "base_uri": "https://localhost:8080/"
        },
        "id": "pmq06bFG1R4y",
        "outputId": "39c85fbb-0be3-4c66-de93-2e9295a50bc3"
      },
      "source": [
        "vulnerability2_0(\"grass\",\"fire\")"
      ],
      "execution_count": 114,
      "outputs": [
        {
          "output_type": "stream",
          "text": [
            "Player 1 is vulnerable to Player 2\n"
          ],
          "name": "stdout"
        }
      ]
    }
  ]
}